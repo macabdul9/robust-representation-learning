{
 "metadata": {
  "language_info": {
   "codemirror_mode": {
    "name": "ipython",
    "version": 3
   },
   "file_extension": ".py",
   "mimetype": "text/x-python",
   "name": "python",
   "nbconvert_exporter": "python",
   "pygments_lexer": "ipython3",
   "version": "3.8.5"
  },
  "orig_nbformat": 2,
  "kernelspec": {
   "name": "python385jvsc74a57bd0b98eaffda2f8dccdd434b8a538c0dff68c3263c07983948f9c516c57469e3c42",
   "display_name": "Python 3.8.5 64-bit ('base': conda)"
  }
 },
 "nbformat": 4,
 "nbformat_minor": 2,
 "cells": [
  {
   "cell_type": "code",
   "execution_count": 1,
   "metadata": {},
   "outputs": [],
   "source": [
    "from dataset.paraphrase import paraphrase_loaders\n",
    "from transformers import AutoTokenizer, AutoModel\n",
    "from config import config\n",
    "from tqdm.notebook import tqdm\n",
    "import torch\n",
    "import gc\n",
    "import os"
   ]
  },
  {
   "cell_type": "code",
   "execution_count": 2,
   "metadata": {},
   "outputs": [],
   "source": [
    "def create_model(model_name):\n",
    "    model = AutoModel.from_pretrained(pretrained_model_name_or_path=model_name)\n",
    "    # freeze the weights\n",
    "    for param in model.parameters():\n",
    "        param.requires_grad = False\n",
    "    return model"
   ]
  },
  {
   "cell_type": "code",
   "execution_count": 3,
   "metadata": {},
   "outputs": [],
   "source": [
    "model_name = \"distilbert-base-uncased\""
   ]
  },
  {
   "cell_type": "code",
   "execution_count": 4,
   "metadata": {},
   "outputs": [],
   "source": [
    "tokenizer = AutoTokenizer.from_pretrained(model_name)\n",
    "model = create_model(model_name)"
   ]
  },
  {
   "cell_type": "code",
   "execution_count": 5,
   "metadata": {},
   "outputs": [
    {
     "output_type": "stream",
     "name": "stderr",
     "text": [
      "Reusing dataset paws (/home/macab/.cache/huggingface/datasets/paws/labeled_final/1.1.0/09d8fae989bb569009a8f5b879ccf2924d3e5cd55bfe2e89e6dab1c0b50ecd34)\n",
      "Reusing dataset glue (/home/macab/.cache/huggingface/datasets/glue/qqp/1.0.0/dacbe3125aa31d7f70367a07a8a9e72a5a0bfeb5fc42e75c9db75b96da6053ad)\n",
      "100%|██████████| 364/364 [00:08<00:00, 44.80ba/s]\n",
      "100%|██████████| 432/432 [00:08<00:00, 50.30ba/s]\n",
      "100%|██████████| 50/50 [00:01<00:00, 47.61ba/s]\n",
      "100%|██████████| 16/16 [00:00<00:00, 46.69ba/s]\n",
      "100%|██████████| 364/364 [00:07<00:00, 49.01ba/s]\n",
      "100%|██████████| 432/432 [00:08<00:00, 49.75ba/s]\n",
      "100%|██████████| 50/50 [00:01<00:00, 47.89ba/s]\n",
      "100%|██████████| 16/16 [00:00<00:00, 48.80ba/s]\n",
      "100%|██████████| 44/44 [00:20<00:00,  2.19ba/s]\n",
      "100%|██████████| 15/15 [00:06<00:00,  2.38ba/s]\n",
      "100%|██████████| 44/44 [00:32<00:00,  1.34ba/s]\n",
      "100%|██████████| 15/15 [00:10<00:00,  1.38ba/s]\n"
     ]
    }
   ],
   "source": [
    "loaders = paraphrase_loaders(\n",
    "    config=config['tasks']['paraphrase'],\n",
    "    tokenizer=tokenizer,\n",
    ")"
   ]
  },
  {
   "cell_type": "code",
   "execution_count": 6,
   "metadata": {},
   "outputs": [
    {
     "output_type": "stream",
     "name": "stdout",
     "text": [
      "qqp 342\nqqp 111\nqqp 111\npaws 342\npaws 111\npaws 111\n"
     ]
    }
   ],
   "source": [
    "for domain in loaders:\n",
    "    for set in loaders[domain]:\n",
    "        print(domain, len(loaders[domain][set]))"
   ]
  },
  {
   "cell_type": "code",
   "execution_count": 9,
   "metadata": {},
   "outputs": [
    {
     "output_type": "display_data",
     "data": {
      "text/plain": "  0%|          | 0/2 [00:00<?, ?it/s]",
      "application/vnd.jupyter.widget-view+json": {
       "version_major": 2,
       "version_minor": 0,
       "model_id": "0d514ef451f04a39bfc44a54e42d760c"
      }
     },
     "metadata": {}
    },
    {
     "output_type": "display_data",
     "data": {
      "text/plain": "  0%|          | 0/443 [00:00<?, ?it/s]",
      "application/vnd.jupyter.widget-view+json": {
       "version_major": 2,
       "version_minor": 0,
       "model_id": "1b72cafa649e42d29740ade2d6c2de82"
      }
     },
     "metadata": {}
    },
    {
     "output_type": "display_data",
     "data": {
      "text/plain": "  0%|          | 0/443 [00:00<?, ?it/s]",
      "application/vnd.jupyter.widget-view+json": {
       "version_major": 2,
       "version_minor": 0,
       "model_id": "35cd301cbcd94de9a53b4ad879fb220a"
      }
     },
     "metadata": {}
    }
   ],
   "source": [
    "\n",
    "data = {}\n",
    "\n",
    "for domain in tqdm(loaders):\n",
    "\n",
    "    representation = torch.empty((0, 768))\n",
    "    labels = []\n",
    "\n",
    "    for batch in tqdm(loaders[domain]['valid']):\n",
    "        \n",
    "        outputs = model(input_ids=batch['input_ids'], attention_mask=batch['attention_mask'])\n",
    "        representation = torch.vstack((representation, outputs[0][:, 0]))\n",
    "        labels += batch['label'].tolist()\n",
    "\n",
    "        \n",
    "    data.update({\n",
    "        domain:{\n",
    "            \"representations\":representation,\n",
    "            \"labels\":labels\n",
    "        }\n",
    "    })\n",
    "\n",
    "    del representation\n",
    "    gc.collect()\n",
    "\n",
    "# del model\n",
    "# gc.collect()\n",
    "\n"
   ]
  },
  {
   "cell_type": "code",
   "execution_count": 18,
   "metadata": {},
   "outputs": [],
   "source": [
    "batch = next(iter(loaders[domain][set]))"
   ]
  },
  {
   "cell_type": "code",
   "execution_count": 11,
   "metadata": {},
   "outputs": [
    {
     "output_type": "execute_result",
     "data": {
      "text/plain": [
       "torch.Size([14150, 768])"
      ]
     },
     "metadata": {},
     "execution_count": 11
    }
   ],
   "source": [
    "data['qqp']['representations'].shape"
   ]
  },
  {
   "cell_type": "code",
   "execution_count": 12,
   "metadata": {},
   "outputs": [
    {
     "output_type": "execute_result",
     "data": {
      "text/plain": [
       "torch.Size([14150, 768])"
      ]
     },
     "metadata": {},
     "execution_count": 12
    }
   ],
   "source": [
    "data['paws']['representations'].shape"
   ]
  },
  {
   "source": [
    "### Save Representation"
   ],
   "cell_type": "markdown",
   "metadata": {}
  },
  {
   "cell_type": "code",
   "execution_count": 1,
   "metadata": {},
   "outputs": [],
   "source": [
    "# for domain in data.keys():\n",
    "\n",
    "#     path = os.path.join(\"/home/macab/research/robust-representation-learning/adaptil/representations/pca\", domain)\n",
    "#     os.makedirs(path, exist_ok=True)\n",
    "    \n",
    "#     torch.save(os.path.join(path, \"representation.pt\"), data[domain]['representations'])\n",
    "#     with open(os.path.join(path, \"labels.txt\"), \"w\") as file:\n",
    "#         file.write(\"\\n\".join(data[domain]['labels']))"
   ]
  },
  {
   "source": [
    "### Read the Representations and Labels"
   ],
   "cell_type": "markdown",
   "metadata": {}
  },
  {
   "cell_type": "code",
   "execution_count": 3,
   "metadata": {},
   "outputs": [],
   "source": [
    "import numpy as np"
   ]
  },
  {
   "cell_type": "code",
   "execution_count": 4,
   "metadata": {},
   "outputs": [],
   "source": [
    "qqp = np.load(\"/home/macab/research/robust-representation-learning/adaptil/representations/pca/qqp.npy\")\n",
    "paws = np.load(\"/home/macab/research/robust-representation-learning/adaptil/representations/pca/paws.npy\")"
   ]
  },
  {
   "cell_type": "code",
   "execution_count": 5,
   "metadata": {},
   "outputs": [
    {
     "output_type": "stream",
     "name": "stdout",
     "text": [
      "(6400, 768) (6400, 768)\n"
     ]
    }
   ],
   "source": [
    "print(qqp.shape, paws.shape)"
   ]
  },
  {
   "cell_type": "code",
   "execution_count": 7,
   "metadata": {},
   "outputs": [],
   "source": [
    "qqp_labels = open(\"./representations/pca/qqp_labels.txt\").read().splitlines()\n",
    "paws_labels = open(\"./representations/pca/paws_labels.txt\").read().splitlines()"
   ]
  },
  {
   "source": [
    "### Apply PCA"
   ],
   "cell_type": "markdown",
   "metadata": {}
  },
  {
   "cell_type": "code",
   "execution_count": 48,
   "metadata": {},
   "outputs": [],
   "source": [
    "from sklearn.decomposition import PCA\n",
    "from contrastive import CPCA\n",
    "import pandas as pd"
   ]
  },
  {
   "cell_type": "code",
   "execution_count": 51,
   "metadata": {},
   "outputs": [],
   "source": [
    "pca = PCA(n_components=2, random_state=42)\n",
    "cpca = CPCA(n_components=2)"
   ]
  },
  {
   "cell_type": "code",
   "execution_count": 52,
   "metadata": {},
   "outputs": [
    {
     "output_type": "stream",
     "text": [
      "\u001b[0;31mSignature:\u001b[0m\n",
      "\u001b[0mcpca\u001b[0m\u001b[0;34m.\u001b[0m\u001b[0mfit_transform\u001b[0m\u001b[0;34m(\u001b[0m\u001b[0;34m\u001b[0m\n",
      "\u001b[0;34m\u001b[0m    \u001b[0mforeground\u001b[0m\u001b[0;34m,\u001b[0m\u001b[0;34m\u001b[0m\n",
      "\u001b[0;34m\u001b[0m    \u001b[0mbackground\u001b[0m\u001b[0;34m,\u001b[0m\u001b[0;34m\u001b[0m\n",
      "\u001b[0;34m\u001b[0m    \u001b[0mplot\u001b[0m\u001b[0;34m=\u001b[0m\u001b[0;32mFalse\u001b[0m\u001b[0;34m,\u001b[0m\u001b[0;34m\u001b[0m\n",
      "\u001b[0;34m\u001b[0m    \u001b[0mgui\u001b[0m\u001b[0;34m=\u001b[0m\u001b[0;32mFalse\u001b[0m\u001b[0;34m,\u001b[0m\u001b[0;34m\u001b[0m\n",
      "\u001b[0;34m\u001b[0m    \u001b[0malpha_selection\u001b[0m\u001b[0;34m=\u001b[0m\u001b[0;34m'auto'\u001b[0m\u001b[0;34m,\u001b[0m\u001b[0;34m\u001b[0m\n",
      "\u001b[0;34m\u001b[0m    \u001b[0mn_alphas\u001b[0m\u001b[0;34m=\u001b[0m\u001b[0;36m40\u001b[0m\u001b[0;34m,\u001b[0m\u001b[0;34m\u001b[0m\n",
      "\u001b[0;34m\u001b[0m    \u001b[0mmax_log_alpha\u001b[0m\u001b[0;34m=\u001b[0m\u001b[0;36m3\u001b[0m\u001b[0;34m,\u001b[0m\u001b[0;34m\u001b[0m\n",
      "\u001b[0;34m\u001b[0m    \u001b[0mn_alphas_to_return\u001b[0m\u001b[0;34m=\u001b[0m\u001b[0;36m4\u001b[0m\u001b[0;34m,\u001b[0m\u001b[0;34m\u001b[0m\n",
      "\u001b[0;34m\u001b[0m    \u001b[0mactive_labels\u001b[0m\u001b[0;34m=\u001b[0m\u001b[0;32mNone\u001b[0m\u001b[0;34m,\u001b[0m\u001b[0;34m\u001b[0m\n",
      "\u001b[0;34m\u001b[0m    \u001b[0mcolors\u001b[0m\u001b[0;34m=\u001b[0m\u001b[0;32mNone\u001b[0m\u001b[0;34m,\u001b[0m\u001b[0;34m\u001b[0m\n",
      "\u001b[0;34m\u001b[0m    \u001b[0mlegend\u001b[0m\u001b[0;34m=\u001b[0m\u001b[0;32mNone\u001b[0m\u001b[0;34m,\u001b[0m\u001b[0;34m\u001b[0m\n",
      "\u001b[0;34m\u001b[0m    \u001b[0malpha_value\u001b[0m\u001b[0;34m=\u001b[0m\u001b[0;32mNone\u001b[0m\u001b[0;34m,\u001b[0m\u001b[0;34m\u001b[0m\n",
      "\u001b[0;34m\u001b[0m    \u001b[0mreturn_alphas\u001b[0m\u001b[0;34m=\u001b[0m\u001b[0;32mFalse\u001b[0m\u001b[0;34m,\u001b[0m\u001b[0;34m\u001b[0m\n",
      "\u001b[0;34m\u001b[0m\u001b[0;34m)\u001b[0m\u001b[0;34m\u001b[0m\u001b[0;34m\u001b[0m\u001b[0m\n",
      "\u001b[0;31mDocstring:\u001b[0m <no docstring>\n",
      "\u001b[0;31mFile:\u001b[0m      ~/miniconda3/lib/python3.8/site-packages/contrastive/__init__.py\n",
      "\u001b[0;31mType:\u001b[0m      method\n"
     ],
     "name": "stdout"
    }
   ],
   "source": [
    "cpca.fit_transform?"
   ]
  },
  {
   "cell_type": "code",
   "execution_count": 38,
   "metadata": {},
   "outputs": [],
   "source": [
    "pca_qqp = pca.fit_transform(qqp)\n",
    "cpca_qqp = cpca.fit_transform(qqp)"
   ]
  },
  {
   "cell_type": "code",
   "execution_count": 39,
   "metadata": {},
   "outputs": [
    {
     "output_type": "stream",
     "name": "stdout",
     "text": [
      "(6400, 2) (6400, 2)\n"
     ]
    }
   ],
   "source": [
    "print(pca_qqp.shape, cpca_qqp.shape)"
   ]
  },
  {
   "cell_type": "code",
   "execution_count": 40,
   "metadata": {},
   "outputs": [],
   "source": [
    "qqp_df_pca = pd.DataFrame(\n",
    "    data={\n",
    "        \"pca_0\":pca_qqp[:, 0],\n",
    "        \"pca_1\":pca_qqp[:, 1],\n",
    "        \"labels\":qqp_labels\n",
    "    }\n",
    ")\n",
    "qqp_df_cpca = pd.DataFrame(\n",
    "    data={\n",
    "        \"pca_0\":cpca_qqp[:, 0],\n",
    "        \"pca_1\":cpca_qqp[:, 1],\n",
    "        \"labels\":qqp_labels\n",
    "    }\n",
    ")"
   ]
  },
  {
   "cell_type": "code",
   "execution_count": 41,
   "metadata": {},
   "outputs": [
    {
     "output_type": "execute_result",
     "data": {
      "text/plain": [
       "         pca_0     pca_1 labels\n",
       "6390  0.088113  1.362898      1\n",
       "6391 -1.708670 -0.060611      1\n",
       "6392 -0.287391  1.518818      0\n",
       "6393  1.732156 -1.605307      1\n",
       "6394 -1.681686 -0.928283      0\n",
       "6395  1.285021  0.086643      0\n",
       "6396 -0.310482  0.119700      1\n",
       "6397  1.417964 -1.113369      1\n",
       "6398 -0.642029  0.758022      0\n",
       "6399 -1.326450  0.008802      0"
      ],
      "text/html": "<div>\n<style scoped>\n    .dataframe tbody tr th:only-of-type {\n        vertical-align: middle;\n    }\n\n    .dataframe tbody tr th {\n        vertical-align: top;\n    }\n\n    .dataframe thead th {\n        text-align: right;\n    }\n</style>\n<table border=\"1\" class=\"dataframe\">\n  <thead>\n    <tr style=\"text-align: right;\">\n      <th></th>\n      <th>pca_0</th>\n      <th>pca_1</th>\n      <th>labels</th>\n    </tr>\n  </thead>\n  <tbody>\n    <tr>\n      <th>6390</th>\n      <td>0.088113</td>\n      <td>1.362898</td>\n      <td>1</td>\n    </tr>\n    <tr>\n      <th>6391</th>\n      <td>-1.708670</td>\n      <td>-0.060611</td>\n      <td>1</td>\n    </tr>\n    <tr>\n      <th>6392</th>\n      <td>-0.287391</td>\n      <td>1.518818</td>\n      <td>0</td>\n    </tr>\n    <tr>\n      <th>6393</th>\n      <td>1.732156</td>\n      <td>-1.605307</td>\n      <td>1</td>\n    </tr>\n    <tr>\n      <th>6394</th>\n      <td>-1.681686</td>\n      <td>-0.928283</td>\n      <td>0</td>\n    </tr>\n    <tr>\n      <th>6395</th>\n      <td>1.285021</td>\n      <td>0.086643</td>\n      <td>0</td>\n    </tr>\n    <tr>\n      <th>6396</th>\n      <td>-0.310482</td>\n      <td>0.119700</td>\n      <td>1</td>\n    </tr>\n    <tr>\n      <th>6397</th>\n      <td>1.417964</td>\n      <td>-1.113369</td>\n      <td>1</td>\n    </tr>\n    <tr>\n      <th>6398</th>\n      <td>-0.642029</td>\n      <td>0.758022</td>\n      <td>0</td>\n    </tr>\n    <tr>\n      <th>6399</th>\n      <td>-1.326450</td>\n      <td>0.008802</td>\n      <td>0</td>\n    </tr>\n  </tbody>\n</table>\n</div>"
     },
     "metadata": {},
     "execution_count": 41
    }
   ],
   "source": [
    "qqp_df_pca.tail(10)"
   ]
  },
  {
   "cell_type": "code",
   "execution_count": 42,
   "metadata": {},
   "outputs": [
    {
     "output_type": "execute_result",
     "data": {
      "text/plain": [
       "         pca_0     pca_1 labels\n",
       "6390  0.088113  1.362898      1\n",
       "6391 -1.708670 -0.060611      1\n",
       "6392 -0.287391  1.518818      0\n",
       "6393  1.732156 -1.605307      1\n",
       "6394 -1.681686 -0.928283      0\n",
       "6395  1.285021  0.086643      0\n",
       "6396 -0.310482  0.119700      1\n",
       "6397  1.417964 -1.113369      1\n",
       "6398 -0.642029  0.758022      0\n",
       "6399 -1.326450  0.008802      0"
      ],
      "text/html": "<div>\n<style scoped>\n    .dataframe tbody tr th:only-of-type {\n        vertical-align: middle;\n    }\n\n    .dataframe tbody tr th {\n        vertical-align: top;\n    }\n\n    .dataframe thead th {\n        text-align: right;\n    }\n</style>\n<table border=\"1\" class=\"dataframe\">\n  <thead>\n    <tr style=\"text-align: right;\">\n      <th></th>\n      <th>pca_0</th>\n      <th>pca_1</th>\n      <th>labels</th>\n    </tr>\n  </thead>\n  <tbody>\n    <tr>\n      <th>6390</th>\n      <td>0.088113</td>\n      <td>1.362898</td>\n      <td>1</td>\n    </tr>\n    <tr>\n      <th>6391</th>\n      <td>-1.708670</td>\n      <td>-0.060611</td>\n      <td>1</td>\n    </tr>\n    <tr>\n      <th>6392</th>\n      <td>-0.287391</td>\n      <td>1.518818</td>\n      <td>0</td>\n    </tr>\n    <tr>\n      <th>6393</th>\n      <td>1.732156</td>\n      <td>-1.605307</td>\n      <td>1</td>\n    </tr>\n    <tr>\n      <th>6394</th>\n      <td>-1.681686</td>\n      <td>-0.928283</td>\n      <td>0</td>\n    </tr>\n    <tr>\n      <th>6395</th>\n      <td>1.285021</td>\n      <td>0.086643</td>\n      <td>0</td>\n    </tr>\n    <tr>\n      <th>6396</th>\n      <td>-0.310482</td>\n      <td>0.119700</td>\n      <td>1</td>\n    </tr>\n    <tr>\n      <th>6397</th>\n      <td>1.417964</td>\n      <td>-1.113369</td>\n      <td>1</td>\n    </tr>\n    <tr>\n      <th>6398</th>\n      <td>-0.642029</td>\n      <td>0.758022</td>\n      <td>0</td>\n    </tr>\n    <tr>\n      <th>6399</th>\n      <td>-1.326450</td>\n      <td>0.008802</td>\n      <td>0</td>\n    </tr>\n  </tbody>\n</table>\n</div>"
     },
     "metadata": {},
     "execution_count": 42
    }
   ],
   "source": [
    "qqp_df_cpca.tail(10)"
   ]
  },
  {
   "cell_type": "code",
   "execution_count": 43,
   "metadata": {},
   "outputs": [
    {
     "output_type": "stream",
     "text": [
      "\u001b[0;31mSignature:\u001b[0m \u001b[0mcpca\u001b[0m\u001b[0;34m.\u001b[0m\u001b[0mfit_transform\u001b[0m\u001b[0;34m(\u001b[0m\u001b[0mX\u001b[0m\u001b[0;34m,\u001b[0m \u001b[0my\u001b[0m\u001b[0;34m=\u001b[0m\u001b[0;32mNone\u001b[0m\u001b[0;34m)\u001b[0m\u001b[0;34m\u001b[0m\u001b[0;34m\u001b[0m\u001b[0m\n",
      "\u001b[0;31mDocstring:\u001b[0m\n",
      "Fit the model with X and apply the dimensionality reduction on X.\n",
      "\n",
      "Parameters\n",
      "----------\n",
      "X : array-like of shape (n_samples, n_features)\n",
      "    Training data, where n_samples is the number of samples\n",
      "    and n_features is the number of features.\n",
      "\n",
      "y : Ignored\n",
      "\n",
      "Returns\n",
      "-------\n",
      "X_new : ndarray of shape (n_samples, n_components)\n",
      "    Transformed values.\n",
      "\n",
      "Notes\n",
      "-----\n",
      "This method returns a Fortran-ordered array. To convert it to a\n",
      "C-ordered array, use 'np.ascontiguousarray'.\n",
      "\u001b[0;31mFile:\u001b[0m      ~/miniconda3/lib/python3.8/site-packages/sklearn/decomposition/_pca.py\n",
      "\u001b[0;31mType:\u001b[0m      method\n"
     ],
     "name": "stdout"
    }
   ],
   "source": [
    "cpca.fit_transform?"
   ]
  },
  {
   "cell_type": "code",
   "execution_count": 45,
   "metadata": {},
   "outputs": [],
   "source": [
    "from contrastive import CPCA"
   ]
  },
  {
   "cell_type": "code",
   "execution_count": 46,
   "metadata": {},
   "outputs": [
    {
     "output_type": "stream",
     "text": [
      "\u001b[0;31mInit signature:\u001b[0m \u001b[0mCPCA\u001b[0m\u001b[0;34m(\u001b[0m\u001b[0mn_components\u001b[0m\u001b[0;34m=\u001b[0m\u001b[0;36m2\u001b[0m\u001b[0;34m,\u001b[0m \u001b[0mstandardize\u001b[0m\u001b[0;34m=\u001b[0m\u001b[0;32mTrue\u001b[0m\u001b[0;34m,\u001b[0m \u001b[0mverbose\u001b[0m\u001b[0;34m=\u001b[0m\u001b[0;32mFalse\u001b[0m\u001b[0;34m)\u001b[0m\u001b[0;34m\u001b[0m\u001b[0;34m\u001b[0m\u001b[0m\n",
      "\u001b[0;31mDocstring:\u001b[0m     \n",
      "Contrastive PCA (cPCA)\n",
      "\n",
      "Linear dimensionality reduction that uses eigenvalue decomposition\n",
      "to identify directions that have increased variance in the primary (foreground)\n",
      "dataset relative to a secondary (background) dataset. Then, those directions\n",
      "are used to project the data to a lower dimensional space.\n",
      "\u001b[0;31mFile:\u001b[0m           ~/miniconda3/lib/python3.8/site-packages/contrastive/__init__.py\n",
      "\u001b[0;31mType:\u001b[0m           type\n",
      "\u001b[0;31mSubclasses:\u001b[0m     Kernel_CPCA\n"
     ],
     "name": "stdout"
    }
   ],
   "source": [
    "c = CPCA()"
   ]
  },
  {
   "cell_type": "code",
   "execution_count": null,
   "metadata": {},
   "outputs": [],
   "source": []
  }
 ]
}