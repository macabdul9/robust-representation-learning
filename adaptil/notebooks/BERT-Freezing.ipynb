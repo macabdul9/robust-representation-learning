{
 "metadata": {
  "language_info": {
   "codemirror_mode": {
    "name": "ipython",
    "version": 3
   },
   "file_extension": ".py",
   "mimetype": "text/x-python",
   "name": "python",
   "nbconvert_exporter": "python",
   "pygments_lexer": "ipython3",
   "version": "3.8.5"
  },
  "orig_nbformat": 2,
  "kernelspec": {
   "name": "python385jvsc74a57bd0b98eaffda2f8dccdd434b8a538c0dff68c3263c07983948f9c516c57469e3c42",
   "display_name": "Python 3.8.5 64-bit ('base': conda)"
  }
 },
 "nbformat": 4,
 "nbformat_minor": 2,
 "cells": [
  {
   "cell_type": "code",
   "execution_count": 1,
   "metadata": {},
   "outputs": [],
   "source": [
    "from transformers import AutoConfig, AutoModel, AutoTokenizer\n",
    "from prettytable import PrettyTable\n",
    "from copy import deepcopy"
   ]
  },
  {
   "cell_type": "code",
   "execution_count": 2,
   "metadata": {},
   "outputs": [],
   "source": [
    "def count_parameters(model):\n",
    "    table = PrettyTable([\"Modules\", \"Parameters\"])\n",
    "    total_params = 0\n",
    "    for name, parameter in model.named_parameters():\n",
    "        if not parameter.requires_grad: continue\n",
    "        param = parameter.numel()\n",
    "        table.add_row([name, param])\n",
    "        total_params+=param\n",
    "    print(table)\n",
    "    print(f\"Total Trainable Params: {total_params}\")\n",
    "    return total_params"
   ]
  },
  {
   "cell_type": "code",
   "execution_count": 3,
   "metadata": {},
   "outputs": [],
   "source": [
    "model_name = \"bert-base-uncased\""
   ]
  },
  {
   "cell_type": "code",
   "execution_count": 4,
   "metadata": {},
   "outputs": [],
   "source": [
    "tokenizer = AutoTokenizer.from_pretrained(model_name)\n",
    "model = AutoModel.from_pretrained(model_name)"
   ]
  },
  {
   "cell_type": "code",
   "execution_count": 28,
   "metadata": {},
   "outputs": [],
   "source": [
    "model_copy = deepcopy(model)"
   ]
  },
  {
   "cell_type": "code",
   "execution_count": 29,
   "metadata": {},
   "outputs": [
    {
     "output_type": "stream",
     "name": "stdout",
     "text": [
      "+----------------------------------------------------+------------+\n|                      Modules                       | Parameters |\n+----------------------------------------------------+------------+\n|         embeddings.word_embeddings.weight          |  23440896  |\n|       embeddings.position_embeddings.weight        |   393216   |\n|      embeddings.token_type_embeddings.weight       |    1536    |\n|            embeddings.LayerNorm.weight             |    768     |\n|             embeddings.LayerNorm.bias              |    768     |\n|    encoder.layer.0.attention.self.query.weight     |   589824   |\n|     encoder.layer.0.attention.self.query.bias      |    768     |\n|     encoder.layer.0.attention.self.key.weight      |   589824   |\n|      encoder.layer.0.attention.self.key.bias       |    768     |\n|    encoder.layer.0.attention.self.value.weight     |   589824   |\n|     encoder.layer.0.attention.self.value.bias      |    768     |\n|   encoder.layer.0.attention.output.dense.weight    |   589824   |\n|    encoder.layer.0.attention.output.dense.bias     |    768     |\n| encoder.layer.0.attention.output.LayerNorm.weight  |    768     |\n|  encoder.layer.0.attention.output.LayerNorm.bias   |    768     |\n|     encoder.layer.0.intermediate.dense.weight      |  2359296   |\n|      encoder.layer.0.intermediate.dense.bias       |    3072    |\n|        encoder.layer.0.output.dense.weight         |  2359296   |\n|         encoder.layer.0.output.dense.bias          |    768     |\n|      encoder.layer.0.output.LayerNorm.weight       |    768     |\n|       encoder.layer.0.output.LayerNorm.bias        |    768     |\n|    encoder.layer.1.attention.self.query.weight     |   589824   |\n|     encoder.layer.1.attention.self.query.bias      |    768     |\n|     encoder.layer.1.attention.self.key.weight      |   589824   |\n|      encoder.layer.1.attention.self.key.bias       |    768     |\n|    encoder.layer.1.attention.self.value.weight     |   589824   |\n|     encoder.layer.1.attention.self.value.bias      |    768     |\n|   encoder.layer.1.attention.output.dense.weight    |   589824   |\n|    encoder.layer.1.attention.output.dense.bias     |    768     |\n| encoder.layer.1.attention.output.LayerNorm.weight  |    768     |\n|  encoder.layer.1.attention.output.LayerNorm.bias   |    768     |\n|     encoder.layer.1.intermediate.dense.weight      |  2359296   |\n|      encoder.layer.1.intermediate.dense.bias       |    3072    |\n|        encoder.layer.1.output.dense.weight         |  2359296   |\n|         encoder.layer.1.output.dense.bias          |    768     |\n|      encoder.layer.1.output.LayerNorm.weight       |    768     |\n|       encoder.layer.1.output.LayerNorm.bias        |    768     |\n|    encoder.layer.2.attention.self.query.weight     |   589824   |\n|     encoder.layer.2.attention.self.query.bias      |    768     |\n|     encoder.layer.2.attention.self.key.weight      |   589824   |\n|      encoder.layer.2.attention.self.key.bias       |    768     |\n|    encoder.layer.2.attention.self.value.weight     |   589824   |\n|     encoder.layer.2.attention.self.value.bias      |    768     |\n|   encoder.layer.2.attention.output.dense.weight    |   589824   |\n|    encoder.layer.2.attention.output.dense.bias     |    768     |\n| encoder.layer.2.attention.output.LayerNorm.weight  |    768     |\n|  encoder.layer.2.attention.output.LayerNorm.bias   |    768     |\n|     encoder.layer.2.intermediate.dense.weight      |  2359296   |\n|      encoder.layer.2.intermediate.dense.bias       |    3072    |\n|        encoder.layer.2.output.dense.weight         |  2359296   |\n|         encoder.layer.2.output.dense.bias          |    768     |\n|      encoder.layer.2.output.LayerNorm.weight       |    768     |\n|       encoder.layer.2.output.LayerNorm.bias        |    768     |\n|    encoder.layer.3.attention.self.query.weight     |   589824   |\n|     encoder.layer.3.attention.self.query.bias      |    768     |\n|     encoder.layer.3.attention.self.key.weight      |   589824   |\n|      encoder.layer.3.attention.self.key.bias       |    768     |\n|    encoder.layer.3.attention.self.value.weight     |   589824   |\n|     encoder.layer.3.attention.self.value.bias      |    768     |\n|   encoder.layer.3.attention.output.dense.weight    |   589824   |\n|    encoder.layer.3.attention.output.dense.bias     |    768     |\n| encoder.layer.3.attention.output.LayerNorm.weight  |    768     |\n|  encoder.layer.3.attention.output.LayerNorm.bias   |    768     |\n|     encoder.layer.3.intermediate.dense.weight      |  2359296   |\n|      encoder.layer.3.intermediate.dense.bias       |    3072    |\n|        encoder.layer.3.output.dense.weight         |  2359296   |\n|         encoder.layer.3.output.dense.bias          |    768     |\n|      encoder.layer.3.output.LayerNorm.weight       |    768     |\n|       encoder.layer.3.output.LayerNorm.bias        |    768     |\n|    encoder.layer.4.attention.self.query.weight     |   589824   |\n|     encoder.layer.4.attention.self.query.bias      |    768     |\n|     encoder.layer.4.attention.self.key.weight      |   589824   |\n|      encoder.layer.4.attention.self.key.bias       |    768     |\n|    encoder.layer.4.attention.self.value.weight     |   589824   |\n|     encoder.layer.4.attention.self.value.bias      |    768     |\n|   encoder.layer.4.attention.output.dense.weight    |   589824   |\n|    encoder.layer.4.attention.output.dense.bias     |    768     |\n| encoder.layer.4.attention.output.LayerNorm.weight  |    768     |\n|  encoder.layer.4.attention.output.LayerNorm.bias   |    768     |\n|     encoder.layer.4.intermediate.dense.weight      |  2359296   |\n|      encoder.layer.4.intermediate.dense.bias       |    3072    |\n|        encoder.layer.4.output.dense.weight         |  2359296   |\n|         encoder.layer.4.output.dense.bias          |    768     |\n|      encoder.layer.4.output.LayerNorm.weight       |    768     |\n|       encoder.layer.4.output.LayerNorm.bias        |    768     |\n|    encoder.layer.5.attention.self.query.weight     |   589824   |\n|     encoder.layer.5.attention.self.query.bias      |    768     |\n|     encoder.layer.5.attention.self.key.weight      |   589824   |\n|      encoder.layer.5.attention.self.key.bias       |    768     |\n|    encoder.layer.5.attention.self.value.weight     |   589824   |\n|     encoder.layer.5.attention.self.value.bias      |    768     |\n|   encoder.layer.5.attention.output.dense.weight    |   589824   |\n|    encoder.layer.5.attention.output.dense.bias     |    768     |\n| encoder.layer.5.attention.output.LayerNorm.weight  |    768     |\n|  encoder.layer.5.attention.output.LayerNorm.bias   |    768     |\n|     encoder.layer.5.intermediate.dense.weight      |  2359296   |\n|      encoder.layer.5.intermediate.dense.bias       |    3072    |\n|        encoder.layer.5.output.dense.weight         |  2359296   |\n|         encoder.layer.5.output.dense.bias          |    768     |\n|      encoder.layer.5.output.LayerNorm.weight       |    768     |\n|       encoder.layer.5.output.LayerNorm.bias        |    768     |\n|    encoder.layer.6.attention.self.query.weight     |   589824   |\n|     encoder.layer.6.attention.self.query.bias      |    768     |\n|     encoder.layer.6.attention.self.key.weight      |   589824   |\n|      encoder.layer.6.attention.self.key.bias       |    768     |\n|    encoder.layer.6.attention.self.value.weight     |   589824   |\n|     encoder.layer.6.attention.self.value.bias      |    768     |\n|   encoder.layer.6.attention.output.dense.weight    |   589824   |\n|    encoder.layer.6.attention.output.dense.bias     |    768     |\n| encoder.layer.6.attention.output.LayerNorm.weight  |    768     |\n|  encoder.layer.6.attention.output.LayerNorm.bias   |    768     |\n|     encoder.layer.6.intermediate.dense.weight      |  2359296   |\n|      encoder.layer.6.intermediate.dense.bias       |    3072    |\n|        encoder.layer.6.output.dense.weight         |  2359296   |\n|         encoder.layer.6.output.dense.bias          |    768     |\n|      encoder.layer.6.output.LayerNorm.weight       |    768     |\n|       encoder.layer.6.output.LayerNorm.bias        |    768     |\n|    encoder.layer.7.attention.self.query.weight     |   589824   |\n|     encoder.layer.7.attention.self.query.bias      |    768     |\n|     encoder.layer.7.attention.self.key.weight      |   589824   |\n|      encoder.layer.7.attention.self.key.bias       |    768     |\n|    encoder.layer.7.attention.self.value.weight     |   589824   |\n|     encoder.layer.7.attention.self.value.bias      |    768     |\n|   encoder.layer.7.attention.output.dense.weight    |   589824   |\n|    encoder.layer.7.attention.output.dense.bias     |    768     |\n| encoder.layer.7.attention.output.LayerNorm.weight  |    768     |\n|  encoder.layer.7.attention.output.LayerNorm.bias   |    768     |\n|     encoder.layer.7.intermediate.dense.weight      |  2359296   |\n|      encoder.layer.7.intermediate.dense.bias       |    3072    |\n|        encoder.layer.7.output.dense.weight         |  2359296   |\n|         encoder.layer.7.output.dense.bias          |    768     |\n|      encoder.layer.7.output.LayerNorm.weight       |    768     |\n|       encoder.layer.7.output.LayerNorm.bias        |    768     |\n|    encoder.layer.8.attention.self.query.weight     |   589824   |\n|     encoder.layer.8.attention.self.query.bias      |    768     |\n|     encoder.layer.8.attention.self.key.weight      |   589824   |\n|      encoder.layer.8.attention.self.key.bias       |    768     |\n|    encoder.layer.8.attention.self.value.weight     |   589824   |\n|     encoder.layer.8.attention.self.value.bias      |    768     |\n|   encoder.layer.8.attention.output.dense.weight    |   589824   |\n|    encoder.layer.8.attention.output.dense.bias     |    768     |\n| encoder.layer.8.attention.output.LayerNorm.weight  |    768     |\n|  encoder.layer.8.attention.output.LayerNorm.bias   |    768     |\n|     encoder.layer.8.intermediate.dense.weight      |  2359296   |\n|      encoder.layer.8.intermediate.dense.bias       |    3072    |\n|        encoder.layer.8.output.dense.weight         |  2359296   |\n|         encoder.layer.8.output.dense.bias          |    768     |\n|      encoder.layer.8.output.LayerNorm.weight       |    768     |\n|       encoder.layer.8.output.LayerNorm.bias        |    768     |\n|    encoder.layer.9.attention.self.query.weight     |   589824   |\n|     encoder.layer.9.attention.self.query.bias      |    768     |\n|     encoder.layer.9.attention.self.key.weight      |   589824   |\n|      encoder.layer.9.attention.self.key.bias       |    768     |\n|    encoder.layer.9.attention.self.value.weight     |   589824   |\n|     encoder.layer.9.attention.self.value.bias      |    768     |\n|   encoder.layer.9.attention.output.dense.weight    |   589824   |\n|    encoder.layer.9.attention.output.dense.bias     |    768     |\n| encoder.layer.9.attention.output.LayerNorm.weight  |    768     |\n|  encoder.layer.9.attention.output.LayerNorm.bias   |    768     |\n|     encoder.layer.9.intermediate.dense.weight      |  2359296   |\n|      encoder.layer.9.intermediate.dense.bias       |    3072    |\n|        encoder.layer.9.output.dense.weight         |  2359296   |\n|         encoder.layer.9.output.dense.bias          |    768     |\n|      encoder.layer.9.output.LayerNorm.weight       |    768     |\n|       encoder.layer.9.output.LayerNorm.bias        |    768     |\n|    encoder.layer.10.attention.self.query.weight    |   589824   |\n|     encoder.layer.10.attention.self.query.bias     |    768     |\n|     encoder.layer.10.attention.self.key.weight     |   589824   |\n|      encoder.layer.10.attention.self.key.bias      |    768     |\n|    encoder.layer.10.attention.self.value.weight    |   589824   |\n|     encoder.layer.10.attention.self.value.bias     |    768     |\n|   encoder.layer.10.attention.output.dense.weight   |   589824   |\n|    encoder.layer.10.attention.output.dense.bias    |    768     |\n| encoder.layer.10.attention.output.LayerNorm.weight |    768     |\n|  encoder.layer.10.attention.output.LayerNorm.bias  |    768     |\n|     encoder.layer.10.intermediate.dense.weight     |  2359296   |\n|      encoder.layer.10.intermediate.dense.bias      |    3072    |\n|        encoder.layer.10.output.dense.weight        |  2359296   |\n|         encoder.layer.10.output.dense.bias         |    768     |\n|      encoder.layer.10.output.LayerNorm.weight      |    768     |\n|       encoder.layer.10.output.LayerNorm.bias       |    768     |\n|    encoder.layer.11.attention.self.query.weight    |   589824   |\n|     encoder.layer.11.attention.self.query.bias     |    768     |\n|     encoder.layer.11.attention.self.key.weight     |   589824   |\n|      encoder.layer.11.attention.self.key.bias      |    768     |\n|    encoder.layer.11.attention.self.value.weight    |   589824   |\n|     encoder.layer.11.attention.self.value.bias     |    768     |\n|   encoder.layer.11.attention.output.dense.weight   |   589824   |\n|    encoder.layer.11.attention.output.dense.bias    |    768     |\n| encoder.layer.11.attention.output.LayerNorm.weight |    768     |\n|  encoder.layer.11.attention.output.LayerNorm.bias  |    768     |\n|     encoder.layer.11.intermediate.dense.weight     |  2359296   |\n|      encoder.layer.11.intermediate.dense.bias      |    3072    |\n|        encoder.layer.11.output.dense.weight        |  2359296   |\n|         encoder.layer.11.output.dense.bias         |    768     |\n|      encoder.layer.11.output.LayerNorm.weight      |    768     |\n|       encoder.layer.11.output.LayerNorm.bias       |    768     |\n|                pooler.dense.weight                 |   589824   |\n|                 pooler.dense.bias                  |    768     |\n+----------------------------------------------------+------------+\nTotal Trainable Params: 109482240\n"
     ]
    },
    {
     "output_type": "execute_result",
     "data": {
      "text/plain": [
       "109482240"
      ]
     },
     "metadata": {},
     "execution_count": 29
    }
   ],
   "source": [
    "# before freezing\n",
    "count_parameters(model)"
   ]
  },
  {
   "cell_type": "code",
   "execution_count": 30,
   "metadata": {},
   "outputs": [],
   "source": [
    "modules = [model.embeddings, *model.encoder.layer[:6]] #Replace 5 by what you want\n",
    "for module in modules:\n",
    "    for param in module.parameters():\n",
    "        param.requires_grad = False"
   ]
  },
  {
   "cell_type": "code",
   "execution_count": 31,
   "metadata": {},
   "outputs": [
    {
     "output_type": "stream",
     "name": "stdout",
     "text": [
      "+----------------------------------------------------+------------+\n|                      Modules                       | Parameters |\n+----------------------------------------------------+------------+\n|    encoder.layer.6.attention.self.query.weight     |   589824   |\n|     encoder.layer.6.attention.self.query.bias      |    768     |\n|     encoder.layer.6.attention.self.key.weight      |   589824   |\n|      encoder.layer.6.attention.self.key.bias       |    768     |\n|    encoder.layer.6.attention.self.value.weight     |   589824   |\n|     encoder.layer.6.attention.self.value.bias      |    768     |\n|   encoder.layer.6.attention.output.dense.weight    |   589824   |\n|    encoder.layer.6.attention.output.dense.bias     |    768     |\n| encoder.layer.6.attention.output.LayerNorm.weight  |    768     |\n|  encoder.layer.6.attention.output.LayerNorm.bias   |    768     |\n|     encoder.layer.6.intermediate.dense.weight      |  2359296   |\n|      encoder.layer.6.intermediate.dense.bias       |    3072    |\n|        encoder.layer.6.output.dense.weight         |  2359296   |\n|         encoder.layer.6.output.dense.bias          |    768     |\n|      encoder.layer.6.output.LayerNorm.weight       |    768     |\n|       encoder.layer.6.output.LayerNorm.bias        |    768     |\n|    encoder.layer.7.attention.self.query.weight     |   589824   |\n|     encoder.layer.7.attention.self.query.bias      |    768     |\n|     encoder.layer.7.attention.self.key.weight      |   589824   |\n|      encoder.layer.7.attention.self.key.bias       |    768     |\n|    encoder.layer.7.attention.self.value.weight     |   589824   |\n|     encoder.layer.7.attention.self.value.bias      |    768     |\n|   encoder.layer.7.attention.output.dense.weight    |   589824   |\n|    encoder.layer.7.attention.output.dense.bias     |    768     |\n| encoder.layer.7.attention.output.LayerNorm.weight  |    768     |\n|  encoder.layer.7.attention.output.LayerNorm.bias   |    768     |\n|     encoder.layer.7.intermediate.dense.weight      |  2359296   |\n|      encoder.layer.7.intermediate.dense.bias       |    3072    |\n|        encoder.layer.7.output.dense.weight         |  2359296   |\n|         encoder.layer.7.output.dense.bias          |    768     |\n|      encoder.layer.7.output.LayerNorm.weight       |    768     |\n|       encoder.layer.7.output.LayerNorm.bias        |    768     |\n|    encoder.layer.8.attention.self.query.weight     |   589824   |\n|     encoder.layer.8.attention.self.query.bias      |    768     |\n|     encoder.layer.8.attention.self.key.weight      |   589824   |\n|      encoder.layer.8.attention.self.key.bias       |    768     |\n|    encoder.layer.8.attention.self.value.weight     |   589824   |\n|     encoder.layer.8.attention.self.value.bias      |    768     |\n|   encoder.layer.8.attention.output.dense.weight    |   589824   |\n|    encoder.layer.8.attention.output.dense.bias     |    768     |\n| encoder.layer.8.attention.output.LayerNorm.weight  |    768     |\n|  encoder.layer.8.attention.output.LayerNorm.bias   |    768     |\n|     encoder.layer.8.intermediate.dense.weight      |  2359296   |\n|      encoder.layer.8.intermediate.dense.bias       |    3072    |\n|        encoder.layer.8.output.dense.weight         |  2359296   |\n|         encoder.layer.8.output.dense.bias          |    768     |\n|      encoder.layer.8.output.LayerNorm.weight       |    768     |\n|       encoder.layer.8.output.LayerNorm.bias        |    768     |\n|    encoder.layer.9.attention.self.query.weight     |   589824   |\n|     encoder.layer.9.attention.self.query.bias      |    768     |\n|     encoder.layer.9.attention.self.key.weight      |   589824   |\n|      encoder.layer.9.attention.self.key.bias       |    768     |\n|    encoder.layer.9.attention.self.value.weight     |   589824   |\n|     encoder.layer.9.attention.self.value.bias      |    768     |\n|   encoder.layer.9.attention.output.dense.weight    |   589824   |\n|    encoder.layer.9.attention.output.dense.bias     |    768     |\n| encoder.layer.9.attention.output.LayerNorm.weight  |    768     |\n|  encoder.layer.9.attention.output.LayerNorm.bias   |    768     |\n|     encoder.layer.9.intermediate.dense.weight      |  2359296   |\n|      encoder.layer.9.intermediate.dense.bias       |    3072    |\n|        encoder.layer.9.output.dense.weight         |  2359296   |\n|         encoder.layer.9.output.dense.bias          |    768     |\n|      encoder.layer.9.output.LayerNorm.weight       |    768     |\n|       encoder.layer.9.output.LayerNorm.bias        |    768     |\n|    encoder.layer.10.attention.self.query.weight    |   589824   |\n|     encoder.layer.10.attention.self.query.bias     |    768     |\n|     encoder.layer.10.attention.self.key.weight     |   589824   |\n|      encoder.layer.10.attention.self.key.bias      |    768     |\n|    encoder.layer.10.attention.self.value.weight    |   589824   |\n|     encoder.layer.10.attention.self.value.bias     |    768     |\n|   encoder.layer.10.attention.output.dense.weight   |   589824   |\n|    encoder.layer.10.attention.output.dense.bias    |    768     |\n| encoder.layer.10.attention.output.LayerNorm.weight |    768     |\n|  encoder.layer.10.attention.output.LayerNorm.bias  |    768     |\n|     encoder.layer.10.intermediate.dense.weight     |  2359296   |\n|      encoder.layer.10.intermediate.dense.bias      |    3072    |\n|        encoder.layer.10.output.dense.weight        |  2359296   |\n|         encoder.layer.10.output.dense.bias         |    768     |\n|      encoder.layer.10.output.LayerNorm.weight      |    768     |\n|       encoder.layer.10.output.LayerNorm.bias       |    768     |\n|    encoder.layer.11.attention.self.query.weight    |   589824   |\n|     encoder.layer.11.attention.self.query.bias     |    768     |\n|     encoder.layer.11.attention.self.key.weight     |   589824   |\n|      encoder.layer.11.attention.self.key.bias      |    768     |\n|    encoder.layer.11.attention.self.value.weight    |   589824   |\n|     encoder.layer.11.attention.self.value.bias     |    768     |\n|   encoder.layer.11.attention.output.dense.weight   |   589824   |\n|    encoder.layer.11.attention.output.dense.bias    |    768     |\n| encoder.layer.11.attention.output.LayerNorm.weight |    768     |\n|  encoder.layer.11.attention.output.LayerNorm.bias  |    768     |\n|     encoder.layer.11.intermediate.dense.weight     |  2359296   |\n|      encoder.layer.11.intermediate.dense.bias      |    3072    |\n|        encoder.layer.11.output.dense.weight        |  2359296   |\n|         encoder.layer.11.output.dense.bias         |    768     |\n|      encoder.layer.11.output.LayerNorm.weight      |    768     |\n|       encoder.layer.11.output.LayerNorm.bias       |    768     |\n|                pooler.dense.weight                 |   589824   |\n|                 pooler.dense.bias                  |    768     |\n+----------------------------------------------------+------------+\nTotal Trainable Params: 43117824\n"
     ]
    },
    {
     "output_type": "execute_result",
     "data": {
      "text/plain": [
       "43117824"
      ]
     },
     "metadata": {},
     "execution_count": 31
    }
   ],
   "source": [
    "count_parameters(model)"
   ]
  },
  {
   "cell_type": "code",
   "execution_count": 11,
   "metadata": {},
   "outputs": [],
   "source": []
  },
  {
   "cell_type": "code",
   "execution_count": 10,
   "metadata": {},
   "outputs": [
    {
     "output_type": "error",
     "ename": "SyntaxError",
     "evalue": "invalid syntax (<ipython-input-10-e99b86e8c7c6>, line 1)",
     "traceback": [
      "\u001b[0;36m  File \u001b[0;32m\"<ipython-input-10-e99b86e8c7c6>\"\u001b[0;36m, line \u001b[0;32m1\u001b[0m\n\u001b[0;31m    model.encoder.[0]\u001b[0m\n\u001b[0m                  ^\u001b[0m\n\u001b[0;31mSyntaxError\u001b[0m\u001b[0;31m:\u001b[0m invalid syntax\n"
     ]
    }
   ],
   "source": [
    "model.encoder.[0]"
   ]
  },
  {
   "cell_type": "code",
   "execution_count": 12,
   "metadata": {},
   "outputs": [
    {
     "output_type": "execute_result",
     "data": {
      "text/plain": [
       "BertEmbeddings(\n",
       "  (word_embeddings): Embedding(30522, 768, padding_idx=0)\n",
       "  (position_embeddings): Embedding(512, 768)\n",
       "  (token_type_embeddings): Embedding(2, 768)\n",
       "  (LayerNorm): LayerNorm((768,), eps=1e-12, elementwise_affine=True)\n",
       "  (dropout): Dropout(p=0.1, inplace=False)\n",
       ")"
      ]
     },
     "metadata": {},
     "execution_count": 12
    }
   ],
   "source": [
    "model.embeddings"
   ]
  },
  {
   "cell_type": "code",
   "execution_count": 34,
   "metadata": {},
   "outputs": [
    {
     "output_type": "error",
     "ename": "ImportError",
     "evalue": "attempted relative import with no known parent package",
     "traceback": [
      "\u001b[0;31m---------------------------------------------------------------------------\u001b[0m",
      "\u001b[0;31mImportError\u001b[0m                               Traceback (most recent call last)",
      "\u001b[0;32m<ipython-input-34-6b228a4948a6>\u001b[0m in \u001b[0;36m<module>\u001b[0;34m\u001b[0m\n\u001b[0;32m----> 1\u001b[0;31m \u001b[0;32mfrom\u001b[0m \u001b[0;34m.\u001b[0m\u001b[0;34m.\u001b[0m\u001b[0mmodels\u001b[0m \u001b[0;32mimport\u001b[0m \u001b[0mmodel\u001b[0m\u001b[0;34m\u001b[0m\u001b[0;34m\u001b[0m\u001b[0m\n\u001b[0m",
      "\u001b[0;31mImportError\u001b[0m: attempted relative import with no known parent package"
     ]
    }
   ],
   "source": [
    "from ..models import model"
   ]
  },
  {
   "cell_type": "code",
   "execution_count": 50,
   "metadata": {},
   "outputs": [],
   "source": [
    "model = AutoModel.from_pretrained('distilroberta-base')"
   ]
  },
  {
   "cell_type": "code",
   "execution_count": 47,
   "metadata": {},
   "outputs": [],
   "source": [
    "# model"
   ]
  },
  {
   "cell_type": "code",
   "execution_count": 48,
   "metadata": {},
   "outputs": [],
   "source": [
    "model = AutoModel.from_pretrained('distilbert-base-uncased')"
   ]
  },
  {
   "cell_type": "code",
   "execution_count": 49,
   "metadata": {},
   "outputs": [
    {
     "output_type": "execute_result",
     "data": {
      "text/plain": [
       "DistilBertModel(\n",
       "  (embeddings): Embeddings(\n",
       "    (word_embeddings): Embedding(30522, 768, padding_idx=0)\n",
       "    (position_embeddings): Embedding(512, 768)\n",
       "    (LayerNorm): LayerNorm((768,), eps=1e-12, elementwise_affine=True)\n",
       "    (dropout): Dropout(p=0.1, inplace=False)\n",
       "  )\n",
       "  (transformer): Transformer(\n",
       "    (layer): ModuleList(\n",
       "      (0): TransformerBlock(\n",
       "        (attention): MultiHeadSelfAttention(\n",
       "          (dropout): Dropout(p=0.1, inplace=False)\n",
       "          (q_lin): Linear(in_features=768, out_features=768, bias=True)\n",
       "          (k_lin): Linear(in_features=768, out_features=768, bias=True)\n",
       "          (v_lin): Linear(in_features=768, out_features=768, bias=True)\n",
       "          (out_lin): Linear(in_features=768, out_features=768, bias=True)\n",
       "        )\n",
       "        (sa_layer_norm): LayerNorm((768,), eps=1e-12, elementwise_affine=True)\n",
       "        (ffn): FFN(\n",
       "          (dropout): Dropout(p=0.1, inplace=False)\n",
       "          (lin1): Linear(in_features=768, out_features=3072, bias=True)\n",
       "          (lin2): Linear(in_features=3072, out_features=768, bias=True)\n",
       "        )\n",
       "        (output_layer_norm): LayerNorm((768,), eps=1e-12, elementwise_affine=True)\n",
       "      )\n",
       "      (1): TransformerBlock(\n",
       "        (attention): MultiHeadSelfAttention(\n",
       "          (dropout): Dropout(p=0.1, inplace=False)\n",
       "          (q_lin): Linear(in_features=768, out_features=768, bias=True)\n",
       "          (k_lin): Linear(in_features=768, out_features=768, bias=True)\n",
       "          (v_lin): Linear(in_features=768, out_features=768, bias=True)\n",
       "          (out_lin): Linear(in_features=768, out_features=768, bias=True)\n",
       "        )\n",
       "        (sa_layer_norm): LayerNorm((768,), eps=1e-12, elementwise_affine=True)\n",
       "        (ffn): FFN(\n",
       "          (dropout): Dropout(p=0.1, inplace=False)\n",
       "          (lin1): Linear(in_features=768, out_features=3072, bias=True)\n",
       "          (lin2): Linear(in_features=3072, out_features=768, bias=True)\n",
       "        )\n",
       "        (output_layer_norm): LayerNorm((768,), eps=1e-12, elementwise_affine=True)\n",
       "      )\n",
       "      (2): TransformerBlock(\n",
       "        (attention): MultiHeadSelfAttention(\n",
       "          (dropout): Dropout(p=0.1, inplace=False)\n",
       "          (q_lin): Linear(in_features=768, out_features=768, bias=True)\n",
       "          (k_lin): Linear(in_features=768, out_features=768, bias=True)\n",
       "          (v_lin): Linear(in_features=768, out_features=768, bias=True)\n",
       "          (out_lin): Linear(in_features=768, out_features=768, bias=True)\n",
       "        )\n",
       "        (sa_layer_norm): LayerNorm((768,), eps=1e-12, elementwise_affine=True)\n",
       "        (ffn): FFN(\n",
       "          (dropout): Dropout(p=0.1, inplace=False)\n",
       "          (lin1): Linear(in_features=768, out_features=3072, bias=True)\n",
       "          (lin2): Linear(in_features=3072, out_features=768, bias=True)\n",
       "        )\n",
       "        (output_layer_norm): LayerNorm((768,), eps=1e-12, elementwise_affine=True)\n",
       "      )\n",
       "      (3): TransformerBlock(\n",
       "        (attention): MultiHeadSelfAttention(\n",
       "          (dropout): Dropout(p=0.1, inplace=False)\n",
       "          (q_lin): Linear(in_features=768, out_features=768, bias=True)\n",
       "          (k_lin): Linear(in_features=768, out_features=768, bias=True)\n",
       "          (v_lin): Linear(in_features=768, out_features=768, bias=True)\n",
       "          (out_lin): Linear(in_features=768, out_features=768, bias=True)\n",
       "        )\n",
       "        (sa_layer_norm): LayerNorm((768,), eps=1e-12, elementwise_affine=True)\n",
       "        (ffn): FFN(\n",
       "          (dropout): Dropout(p=0.1, inplace=False)\n",
       "          (lin1): Linear(in_features=768, out_features=3072, bias=True)\n",
       "          (lin2): Linear(in_features=3072, out_features=768, bias=True)\n",
       "        )\n",
       "        (output_layer_norm): LayerNorm((768,), eps=1e-12, elementwise_affine=True)\n",
       "      )\n",
       "      (4): TransformerBlock(\n",
       "        (attention): MultiHeadSelfAttention(\n",
       "          (dropout): Dropout(p=0.1, inplace=False)\n",
       "          (q_lin): Linear(in_features=768, out_features=768, bias=True)\n",
       "          (k_lin): Linear(in_features=768, out_features=768, bias=True)\n",
       "          (v_lin): Linear(in_features=768, out_features=768, bias=True)\n",
       "          (out_lin): Linear(in_features=768, out_features=768, bias=True)\n",
       "        )\n",
       "        (sa_layer_norm): LayerNorm((768,), eps=1e-12, elementwise_affine=True)\n",
       "        (ffn): FFN(\n",
       "          (dropout): Dropout(p=0.1, inplace=False)\n",
       "          (lin1): Linear(in_features=768, out_features=3072, bias=True)\n",
       "          (lin2): Linear(in_features=3072, out_features=768, bias=True)\n",
       "        )\n",
       "        (output_layer_norm): LayerNorm((768,), eps=1e-12, elementwise_affine=True)\n",
       "      )\n",
       "      (5): TransformerBlock(\n",
       "        (attention): MultiHeadSelfAttention(\n",
       "          (dropout): Dropout(p=0.1, inplace=False)\n",
       "          (q_lin): Linear(in_features=768, out_features=768, bias=True)\n",
       "          (k_lin): Linear(in_features=768, out_features=768, bias=True)\n",
       "          (v_lin): Linear(in_features=768, out_features=768, bias=True)\n",
       "          (out_lin): Linear(in_features=768, out_features=768, bias=True)\n",
       "        )\n",
       "        (sa_layer_norm): LayerNorm((768,), eps=1e-12, elementwise_affine=True)\n",
       "        (ffn): FFN(\n",
       "          (dropout): Dropout(p=0.1, inplace=False)\n",
       "          (lin1): Linear(in_features=768, out_features=3072, bias=True)\n",
       "          (lin2): Linear(in_features=3072, out_features=768, bias=True)\n",
       "        )\n",
       "        (output_layer_norm): LayerNorm((768,), eps=1e-12, elementwise_affine=True)\n",
       "      )\n",
       "    )\n",
       "  )\n",
       ")"
      ]
     },
     "metadata": {},
     "execution_count": 49
    }
   ],
   "source": [
    "model"
   ]
  },
  {
   "cell_type": "code",
   "execution_count": null,
   "metadata": {},
   "outputs": [],
   "source": []
  }
 ]
}