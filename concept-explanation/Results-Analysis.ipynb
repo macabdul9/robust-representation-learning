{
 "metadata": {
  "language_info": {
   "codemirror_mode": {
    "name": "ipython",
    "version": 3
   },
   "file_extension": ".py",
   "mimetype": "text/x-python",
   "name": "python",
   "nbconvert_exporter": "python",
   "pygments_lexer": "ipython3",
   "version": "3.9.5"
  },
  "orig_nbformat": 4,
  "kernelspec": {
   "name": "python3",
   "display_name": "Python 3.9.5 64-bit ('major': conda)"
  },
  "interpreter": {
   "hash": "c1d25519fcebb96d3bb8ee721cd6b8a8b993ec99e150dd6195d0d091eb48295b"
  }
 },
 "nbformat": 4,
 "nbformat_minor": 2,
 "cells": [
  {
   "cell_type": "code",
   "execution_count": 1,
   "metadata": {},
   "outputs": [],
   "source": [
    "import pandas as pd"
   ]
  },
  {
   "cell_type": "code",
   "execution_count": 8,
   "metadata": {},
   "outputs": [],
   "source": [
    "models = ['bert-base-uncased', 'distilbert-base-uncased', 'roberta-base']"
   ]
  },
  {
   "cell_type": "code",
   "execution_count": 9,
   "metadata": {},
   "outputs": [],
   "source": [
    "models = list(map(lambda x:x.split(\"-\")[0]+\"_prob\", models))"
   ]
  },
  {
   "cell_type": "code",
   "execution_count": 10,
   "metadata": {},
   "outputs": [
    {
     "output_type": "execute_result",
     "data": {
      "text/plain": [
       "['bert_prob', 'distilbert_prob', 'roberta_prob']"
      ]
     },
     "metadata": {},
     "execution_count": 10
    }
   ],
   "source": [
    "models"
   ]
  },
  {
   "cell_type": "code",
   "execution_count": 11,
   "metadata": {},
   "outputs": [],
   "source": [
    "df = pd.read_csv(\"/home/macab/research/robust-representation-learning/concept-explanation/outputs/imdb_sst2_sa/sst2.csv\")"
   ]
  },
  {
   "cell_type": "code",
   "execution_count": 12,
   "metadata": {},
   "outputs": [
    {
     "output_type": "execute_result",
     "data": {
      "text/plain": [
       "                                                text  ground_truth  bert_pred  \\\n",
       "0                 unflinchingly bleak and desperate              0          0   \n",
       "1                     it's slow -- very, very slow.              0          0   \n",
       "2                         a sometimes tedious film.              0          0   \n",
       "3     or doing last year's taxes with your ex-wife.              0          0   \n",
       "4  in exactly 89 minutes, most of which passed as...             0          0   \n",
       "\n",
       "   bert_prob  distilbert_pred  distilbert_prob  roberta_pred  roberta_prob  \n",
       "0   0.907564                0         0.843935             0      0.978758  \n",
       "1   0.997606                0         0.989695             0      0.997834  \n",
       "2   0.877736                0         0.989908             0      0.997731  \n",
       "3   0.980953                0         0.980491             0      0.943878  \n",
       "4   0.997083                0         0.986785             0      0.997290  "
      ],
      "text/html": "<div>\n<style scoped>\n    .dataframe tbody tr th:only-of-type {\n        vertical-align: middle;\n    }\n\n    .dataframe tbody tr th {\n        vertical-align: top;\n    }\n\n    .dataframe thead th {\n        text-align: right;\n    }\n</style>\n<table border=\"1\" class=\"dataframe\">\n  <thead>\n    <tr style=\"text-align: right;\">\n      <th></th>\n      <th>text</th>\n      <th>ground_truth</th>\n      <th>bert_pred</th>\n      <th>bert_prob</th>\n      <th>distilbert_pred</th>\n      <th>distilbert_prob</th>\n      <th>roberta_pred</th>\n      <th>roberta_prob</th>\n    </tr>\n  </thead>\n  <tbody>\n    <tr>\n      <th>0</th>\n      <td>unflinchingly bleak and desperate</td>\n      <td>0</td>\n      <td>0</td>\n      <td>0.907564</td>\n      <td>0</td>\n      <td>0.843935</td>\n      <td>0</td>\n      <td>0.978758</td>\n    </tr>\n    <tr>\n      <th>1</th>\n      <td>it's slow -- very, very slow.</td>\n      <td>0</td>\n      <td>0</td>\n      <td>0.997606</td>\n      <td>0</td>\n      <td>0.989695</td>\n      <td>0</td>\n      <td>0.997834</td>\n    </tr>\n    <tr>\n      <th>2</th>\n      <td>a sometimes tedious film.</td>\n      <td>0</td>\n      <td>0</td>\n      <td>0.877736</td>\n      <td>0</td>\n      <td>0.989908</td>\n      <td>0</td>\n      <td>0.997731</td>\n    </tr>\n    <tr>\n      <th>3</th>\n      <td>or doing last year's taxes with your ex-wife.</td>\n      <td>0</td>\n      <td>0</td>\n      <td>0.980953</td>\n      <td>0</td>\n      <td>0.980491</td>\n      <td>0</td>\n      <td>0.943878</td>\n    </tr>\n    <tr>\n      <th>4</th>\n      <td>in exactly 89 minutes, most of which passed as...</td>\n      <td>0</td>\n      <td>0</td>\n      <td>0.997083</td>\n      <td>0</td>\n      <td>0.986785</td>\n      <td>0</td>\n      <td>0.997290</td>\n    </tr>\n  </tbody>\n</table>\n</div>"
     },
     "metadata": {},
     "execution_count": 12
    }
   ],
   "source": [
    "df.head()"
   ]
  },
  {
   "cell_type": "code",
   "execution_count": 13,
   "metadata": {},
   "outputs": [],
   "source": [
    "df['mean_prob'] = df[models].mean(axis=1)"
   ]
  },
  {
   "cell_type": "code",
   "execution_count": 14,
   "metadata": {},
   "outputs": [
    {
     "output_type": "execute_result",
     "data": {
      "text/plain": [
       "                                                text  ground_truth  bert_pred  \\\n",
       "0                 unflinchingly bleak and desperate              0          0   \n",
       "1                     it's slow -- very, very slow.              0          0   \n",
       "2                         a sometimes tedious film.              0          0   \n",
       "3     or doing last year's taxes with your ex-wife.              0          0   \n",
       "4  in exactly 89 minutes, most of which passed as...             0          0   \n",
       "\n",
       "   bert_prob  distilbert_pred  distilbert_prob  roberta_pred  roberta_prob  \\\n",
       "0   0.907564                0         0.843935             0      0.978758   \n",
       "1   0.997606                0         0.989695             0      0.997834   \n",
       "2   0.877736                0         0.989908             0      0.997731   \n",
       "3   0.980953                0         0.980491             0      0.943878   \n",
       "4   0.997083                0         0.986785             0      0.997290   \n",
       "\n",
       "   mean_prob  \n",
       "0   0.910085  \n",
       "1   0.995045  \n",
       "2   0.955125  \n",
       "3   0.968441  \n",
       "4   0.993719  "
      ],
      "text/html": "<div>\n<style scoped>\n    .dataframe tbody tr th:only-of-type {\n        vertical-align: middle;\n    }\n\n    .dataframe tbody tr th {\n        vertical-align: top;\n    }\n\n    .dataframe thead th {\n        text-align: right;\n    }\n</style>\n<table border=\"1\" class=\"dataframe\">\n  <thead>\n    <tr style=\"text-align: right;\">\n      <th></th>\n      <th>text</th>\n      <th>ground_truth</th>\n      <th>bert_pred</th>\n      <th>bert_prob</th>\n      <th>distilbert_pred</th>\n      <th>distilbert_prob</th>\n      <th>roberta_pred</th>\n      <th>roberta_prob</th>\n      <th>mean_prob</th>\n    </tr>\n  </thead>\n  <tbody>\n    <tr>\n      <th>0</th>\n      <td>unflinchingly bleak and desperate</td>\n      <td>0</td>\n      <td>0</td>\n      <td>0.907564</td>\n      <td>0</td>\n      <td>0.843935</td>\n      <td>0</td>\n      <td>0.978758</td>\n      <td>0.910085</td>\n    </tr>\n    <tr>\n      <th>1</th>\n      <td>it's slow -- very, very slow.</td>\n      <td>0</td>\n      <td>0</td>\n      <td>0.997606</td>\n      <td>0</td>\n      <td>0.989695</td>\n      <td>0</td>\n      <td>0.997834</td>\n      <td>0.995045</td>\n    </tr>\n    <tr>\n      <th>2</th>\n      <td>a sometimes tedious film.</td>\n      <td>0</td>\n      <td>0</td>\n      <td>0.877736</td>\n      <td>0</td>\n      <td>0.989908</td>\n      <td>0</td>\n      <td>0.997731</td>\n      <td>0.955125</td>\n    </tr>\n    <tr>\n      <th>3</th>\n      <td>or doing last year's taxes with your ex-wife.</td>\n      <td>0</td>\n      <td>0</td>\n      <td>0.980953</td>\n      <td>0</td>\n      <td>0.980491</td>\n      <td>0</td>\n      <td>0.943878</td>\n      <td>0.968441</td>\n    </tr>\n    <tr>\n      <th>4</th>\n      <td>in exactly 89 minutes, most of which passed as...</td>\n      <td>0</td>\n      <td>0</td>\n      <td>0.997083</td>\n      <td>0</td>\n      <td>0.986785</td>\n      <td>0</td>\n      <td>0.997290</td>\n      <td>0.993719</td>\n    </tr>\n  </tbody>\n</table>\n</div>"
     },
     "metadata": {},
     "execution_count": 14
    }
   ],
   "source": [
    "df.head()"
   ]
  },
  {
   "cell_type": "code",
   "execution_count": 15,
   "metadata": {},
   "outputs": [],
   "source": [
    "df = df.sample(frac=1.0)"
   ]
  },
  {
   "cell_type": "code",
   "execution_count": 17,
   "metadata": {},
   "outputs": [
    {
     "output_type": "execute_result",
     "data": {
      "text/plain": [
       "                                                  text  ground_truth  \\\n",
       "793  a poignant, artfully crafted meditation on mor...             1   \n",
       "55   sam mendes has become valedictorian at the sch...             0   \n",
       "325  there's not enough here to justify the almost ...             0   \n",
       "345  every time you look, sweet home alabama is tak...             0   \n",
       "416  given how heavy-handed and portent-heavy it is...             0   \n",
       "\n",
       "     bert_pred  bert_prob  distilbert_pred  distilbert_prob  roberta_pred  \\\n",
       "793          1   0.999439                1         0.999484             1   \n",
       "55           1   0.415464                1         0.494315             1   \n",
       "325          0   0.998340                0         0.997348             0   \n",
       "345          0   0.988348                0         0.963034             0   \n",
       "416          0   0.998344                0         0.997703             0   \n",
       "\n",
       "     roberta_prob  mean_prob  \n",
       "793      0.999664   0.999529  \n",
       "55       0.004342   0.304707  \n",
       "325      0.998305   0.997998  \n",
       "345      0.996729   0.982704  \n",
       "416      0.998205   0.998084  "
      ],
      "text/html": "<div>\n<style scoped>\n    .dataframe tbody tr th:only-of-type {\n        vertical-align: middle;\n    }\n\n    .dataframe tbody tr th {\n        vertical-align: top;\n    }\n\n    .dataframe thead th {\n        text-align: right;\n    }\n</style>\n<table border=\"1\" class=\"dataframe\">\n  <thead>\n    <tr style=\"text-align: right;\">\n      <th></th>\n      <th>text</th>\n      <th>ground_truth</th>\n      <th>bert_pred</th>\n      <th>bert_prob</th>\n      <th>distilbert_pred</th>\n      <th>distilbert_prob</th>\n      <th>roberta_pred</th>\n      <th>roberta_prob</th>\n      <th>mean_prob</th>\n    </tr>\n  </thead>\n  <tbody>\n    <tr>\n      <th>793</th>\n      <td>a poignant, artfully crafted meditation on mor...</td>\n      <td>1</td>\n      <td>1</td>\n      <td>0.999439</td>\n      <td>1</td>\n      <td>0.999484</td>\n      <td>1</td>\n      <td>0.999664</td>\n      <td>0.999529</td>\n    </tr>\n    <tr>\n      <th>55</th>\n      <td>sam mendes has become valedictorian at the sch...</td>\n      <td>0</td>\n      <td>1</td>\n      <td>0.415464</td>\n      <td>1</td>\n      <td>0.494315</td>\n      <td>1</td>\n      <td>0.004342</td>\n      <td>0.304707</td>\n    </tr>\n    <tr>\n      <th>325</th>\n      <td>there's not enough here to justify the almost ...</td>\n      <td>0</td>\n      <td>0</td>\n      <td>0.998340</td>\n      <td>0</td>\n      <td>0.997348</td>\n      <td>0</td>\n      <td>0.998305</td>\n      <td>0.997998</td>\n    </tr>\n    <tr>\n      <th>345</th>\n      <td>every time you look, sweet home alabama is tak...</td>\n      <td>0</td>\n      <td>0</td>\n      <td>0.988348</td>\n      <td>0</td>\n      <td>0.963034</td>\n      <td>0</td>\n      <td>0.996729</td>\n      <td>0.982704</td>\n    </tr>\n    <tr>\n      <th>416</th>\n      <td>given how heavy-handed and portent-heavy it is...</td>\n      <td>0</td>\n      <td>0</td>\n      <td>0.998344</td>\n      <td>0</td>\n      <td>0.997703</td>\n      <td>0</td>\n      <td>0.998205</td>\n      <td>0.998084</td>\n    </tr>\n  </tbody>\n</table>\n</div>"
     },
     "metadata": {},
     "execution_count": 17
    }
   ],
   "source": [
    "df.head()"
   ]
  },
  {
   "cell_type": "code",
   "execution_count": 55,
   "metadata": {},
   "outputs": [],
   "source": [
    "top_5 = df['mean_prob'].quantile(q=0.95)\n",
    "bottom_5 = df['mean_prob'].quantile(q=0.05)"
   ]
  },
  {
   "cell_type": "code",
   "execution_count": 56,
   "metadata": {},
   "outputs": [],
   "source": [
    "df_top_5 = df[df['mean_prob'] >= top_5]\n",
    "df_bottom_5 = df[df['mean_prob'] <= bottom_5]"
   ]
  },
  {
   "cell_type": "code",
   "execution_count": 57,
   "metadata": {},
   "outputs": [
    {
     "output_type": "stream",
     "name": "stdout",
     "text": [
      "(43, 9) (43, 9)\n"
     ]
    }
   ],
   "source": [
    "print(df_top_5.shape, df_bottom_5.shape)"
   ]
  },
  {
   "cell_type": "code",
   "execution_count": 68,
   "metadata": {},
   "outputs": [
    {
     "output_type": "execute_result",
     "data": {
      "text/plain": [
       "                                                  text  ground_truth  \\\n",
       "793  a poignant, artfully crafted meditation on mor...             1   \n",
       "837      just as moving, uplifting and funny as ever.              1   \n",
       "442               a gorgeous, witty, seductive movie.              1   \n",
       "597                       a deep and meaningful film.              1   \n",
       "811  ... a fun little timewaster, helped especially...             1   \n",
       "840  this is a good script, good dialogue, funny ev...             1   \n",
       "456  this is a story of two misfits who don't stand...             1   \n",
       "658  yakusho and shimizu... create engaging charact...             1   \n",
       "428      it's a charming and often affecting journey.              1   \n",
       "842                 a delightful coming-of-age story.              1   \n",
       "\n",
       "     mean_prob  \n",
       "793   0.999529  \n",
       "837   0.999555  \n",
       "442   0.999628  \n",
       "597   0.999635  \n",
       "811   0.999458  \n",
       "840   0.999479  \n",
       "456   0.999492  \n",
       "658   0.999635  \n",
       "428   0.999638  \n",
       "842   0.999649  "
      ],
      "text/html": "<div>\n<style scoped>\n    .dataframe tbody tr th:only-of-type {\n        vertical-align: middle;\n    }\n\n    .dataframe tbody tr th {\n        vertical-align: top;\n    }\n\n    .dataframe thead th {\n        text-align: right;\n    }\n</style>\n<table border=\"1\" class=\"dataframe\">\n  <thead>\n    <tr style=\"text-align: right;\">\n      <th></th>\n      <th>text</th>\n      <th>ground_truth</th>\n      <th>mean_prob</th>\n    </tr>\n  </thead>\n  <tbody>\n    <tr>\n      <th>793</th>\n      <td>a poignant, artfully crafted meditation on mor...</td>\n      <td>1</td>\n      <td>0.999529</td>\n    </tr>\n    <tr>\n      <th>837</th>\n      <td>just as moving, uplifting and funny as ever.</td>\n      <td>1</td>\n      <td>0.999555</td>\n    </tr>\n    <tr>\n      <th>442</th>\n      <td>a gorgeous, witty, seductive movie.</td>\n      <td>1</td>\n      <td>0.999628</td>\n    </tr>\n    <tr>\n      <th>597</th>\n      <td>a deep and meaningful film.</td>\n      <td>1</td>\n      <td>0.999635</td>\n    </tr>\n    <tr>\n      <th>811</th>\n      <td>... a fun little timewaster, helped especially...</td>\n      <td>1</td>\n      <td>0.999458</td>\n    </tr>\n    <tr>\n      <th>840</th>\n      <td>this is a good script, good dialogue, funny ev...</td>\n      <td>1</td>\n      <td>0.999479</td>\n    </tr>\n    <tr>\n      <th>456</th>\n      <td>this is a story of two misfits who don't stand...</td>\n      <td>1</td>\n      <td>0.999492</td>\n    </tr>\n    <tr>\n      <th>658</th>\n      <td>yakusho and shimizu... create engaging charact...</td>\n      <td>1</td>\n      <td>0.999635</td>\n    </tr>\n    <tr>\n      <th>428</th>\n      <td>it's a charming and often affecting journey.</td>\n      <td>1</td>\n      <td>0.999638</td>\n    </tr>\n    <tr>\n      <th>842</th>\n      <td>a delightful coming-of-age story.</td>\n      <td>1</td>\n      <td>0.999649</td>\n    </tr>\n  </tbody>\n</table>\n</div>"
     },
     "metadata": {},
     "execution_count": 68
    }
   ],
   "source": [
    "df_top_5[['text', 'ground_truth', 'mean_prob']].head(10)"
   ]
  },
  {
   "cell_type": "code",
   "execution_count": 69,
   "metadata": {},
   "outputs": [
    {
     "output_type": "execute_result",
     "data": {
      "text/plain": [
       "                                                  text  ground_truth  \\\n",
       "55   sam mendes has become valedictorian at the sch...             0   \n",
       "562  a coda in every sense, the pinochet case split...             1   \n",
       "147  i 'll bet the video game is a lot more fun tha...             0   \n",
       "242  moretti's compelling anatomy of grief and the ...             0   \n",
       "699  a movie that successfully crushes a best selli...             1   \n",
       "142  the story and the friendship proceeds in such ...             0   \n",
       "616  ( d ) oesn't bother being as cloying or preach...             1   \n",
       "565  minority report is exactly what the title indi...             1   \n",
       "191  if director michael dowse only superficially u...             0   \n",
       "434  we root for ( clara and paul ), even like them...             1   \n",
       "\n",
       "     mean_prob  \n",
       "55    0.304707  \n",
       "562   0.225765  \n",
       "147   0.064341  \n",
       "242   0.002468  \n",
       "699   0.112887  \n",
       "142   0.106649  \n",
       "616   0.088918  \n",
       "565   0.299417  \n",
       "191   0.211421  \n",
       "434   0.053331  "
      ],
      "text/html": "<div>\n<style scoped>\n    .dataframe tbody tr th:only-of-type {\n        vertical-align: middle;\n    }\n\n    .dataframe tbody tr th {\n        vertical-align: top;\n    }\n\n    .dataframe thead th {\n        text-align: right;\n    }\n</style>\n<table border=\"1\" class=\"dataframe\">\n  <thead>\n    <tr style=\"text-align: right;\">\n      <th></th>\n      <th>text</th>\n      <th>ground_truth</th>\n      <th>mean_prob</th>\n    </tr>\n  </thead>\n  <tbody>\n    <tr>\n      <th>55</th>\n      <td>sam mendes has become valedictorian at the sch...</td>\n      <td>0</td>\n      <td>0.304707</td>\n    </tr>\n    <tr>\n      <th>562</th>\n      <td>a coda in every sense, the pinochet case split...</td>\n      <td>1</td>\n      <td>0.225765</td>\n    </tr>\n    <tr>\n      <th>147</th>\n      <td>i 'll bet the video game is a lot more fun tha...</td>\n      <td>0</td>\n      <td>0.064341</td>\n    </tr>\n    <tr>\n      <th>242</th>\n      <td>moretti's compelling anatomy of grief and the ...</td>\n      <td>0</td>\n      <td>0.002468</td>\n    </tr>\n    <tr>\n      <th>699</th>\n      <td>a movie that successfully crushes a best selli...</td>\n      <td>1</td>\n      <td>0.112887</td>\n    </tr>\n    <tr>\n      <th>142</th>\n      <td>the story and the friendship proceeds in such ...</td>\n      <td>0</td>\n      <td>0.106649</td>\n    </tr>\n    <tr>\n      <th>616</th>\n      <td>( d ) oesn't bother being as cloying or preach...</td>\n      <td>1</td>\n      <td>0.088918</td>\n    </tr>\n    <tr>\n      <th>565</th>\n      <td>minority report is exactly what the title indi...</td>\n      <td>1</td>\n      <td>0.299417</td>\n    </tr>\n    <tr>\n      <th>191</th>\n      <td>if director michael dowse only superficially u...</td>\n      <td>0</td>\n      <td>0.211421</td>\n    </tr>\n    <tr>\n      <th>434</th>\n      <td>we root for ( clara and paul ), even like them...</td>\n      <td>1</td>\n      <td>0.053331</td>\n    </tr>\n  </tbody>\n</table>\n</div>"
     },
     "metadata": {},
     "execution_count": 69
    }
   ],
   "source": [
    "df_bottom_5[['text', 'ground_truth', 'mean_prob']].head(10)"
   ]
  },
  {
   "cell_type": "code",
   "execution_count": null,
   "metadata": {},
   "outputs": [],
   "source": []
  },
  {
   "cell_type": "code",
   "execution_count": 70,
   "metadata": {},
   "outputs": [],
   "source": [
    "df_top_5[['text', 'ground_truth', 'mean_prob']].to_csv(\"top_5_sst2.csv\", index=False)\n",
    "df_bottom_5[['text', 'ground_truth', 'mean_prob']].to_csv(\"bottom_5_sst2.csv\", index=False)"
   ]
  },
  {
   "cell_type": "code",
   "execution_count": null,
   "metadata": {},
   "outputs": [],
   "source": []
  },
  {
   "cell_type": "code",
   "execution_count": null,
   "metadata": {},
   "outputs": [],
   "source": []
  },
  {
   "cell_type": "code",
   "execution_count": 51,
   "metadata": {},
   "outputs": [
    {
     "output_type": "execute_result",
     "data": {
      "text/plain": [
       "                                                  text  mean_prob\n",
       "793  a poignant, artfully crafted meditation on mor...   0.999529\n",
       "837      just as moving, uplifting and funny as ever.    0.999555\n",
       "442               a gorgeous, witty, seductive movie.    0.999628\n",
       "597                       a deep and meaningful film.    0.999635\n",
       "811  ... a fun little timewaster, helped especially...   0.999458\n",
       "840  this is a good script, good dialogue, funny ev...   0.999479\n",
       "456  this is a story of two misfits who don't stand...   0.999492\n",
       "658  yakusho and shimizu... create engaging charact...   0.999635\n",
       "428      it's a charming and often affecting journey.    0.999638\n",
       "842                 a delightful coming-of-age story.    0.999649"
      ],
      "text/html": "<div>\n<style scoped>\n    .dataframe tbody tr th:only-of-type {\n        vertical-align: middle;\n    }\n\n    .dataframe tbody tr th {\n        vertical-align: top;\n    }\n\n    .dataframe thead th {\n        text-align: right;\n    }\n</style>\n<table border=\"1\" class=\"dataframe\">\n  <thead>\n    <tr style=\"text-align: right;\">\n      <th></th>\n      <th>text</th>\n      <th>mean_prob</th>\n    </tr>\n  </thead>\n  <tbody>\n    <tr>\n      <th>793</th>\n      <td>a poignant, artfully crafted meditation on mor...</td>\n      <td>0.999529</td>\n    </tr>\n    <tr>\n      <th>837</th>\n      <td>just as moving, uplifting and funny as ever.</td>\n      <td>0.999555</td>\n    </tr>\n    <tr>\n      <th>442</th>\n      <td>a gorgeous, witty, seductive movie.</td>\n      <td>0.999628</td>\n    </tr>\n    <tr>\n      <th>597</th>\n      <td>a deep and meaningful film.</td>\n      <td>0.999635</td>\n    </tr>\n    <tr>\n      <th>811</th>\n      <td>... a fun little timewaster, helped especially...</td>\n      <td>0.999458</td>\n    </tr>\n    <tr>\n      <th>840</th>\n      <td>this is a good script, good dialogue, funny ev...</td>\n      <td>0.999479</td>\n    </tr>\n    <tr>\n      <th>456</th>\n      <td>this is a story of two misfits who don't stand...</td>\n      <td>0.999492</td>\n    </tr>\n    <tr>\n      <th>658</th>\n      <td>yakusho and shimizu... create engaging charact...</td>\n      <td>0.999635</td>\n    </tr>\n    <tr>\n      <th>428</th>\n      <td>it's a charming and often affecting journey.</td>\n      <td>0.999638</td>\n    </tr>\n    <tr>\n      <th>842</th>\n      <td>a delightful coming-of-age story.</td>\n      <td>0.999649</td>\n    </tr>\n  </tbody>\n</table>\n</div>"
     },
     "metadata": {},
     "execution_count": 51
    }
   ],
   "source": [
    "df_top_5[['text', 'mean_prob']].head(10)"
   ]
  },
  {
   "cell_type": "code",
   "execution_count": 71,
   "metadata": {},
   "outputs": [],
   "source": [
    "from sklearn.metrics import classification_report"
   ]
  },
  {
   "cell_type": "code",
   "execution_count": 72,
   "metadata": {},
   "outputs": [
    {
     "output_type": "stream",
     "name": "stdout",
     "text": [
      "              precision    recall  f1-score   support\n\n           0     0.9340    0.9252    0.9296       428\n           1     0.9259    0.9346    0.9302       428\n\n    accuracy                         0.9299       856\n   macro avg     0.9299    0.9299    0.9299       856\nweighted avg     0.9299    0.9299    0.9299       856\n\n"
     ]
    }
   ],
   "source": [
    "print(classification_report(y_true=df['ground_truth'], y_pred=df['roberta_pred'], digits=4))"
   ]
  },
  {
   "cell_type": "code",
   "execution_count": null,
   "metadata": {},
   "outputs": [],
   "source": []
  }
 ]
}