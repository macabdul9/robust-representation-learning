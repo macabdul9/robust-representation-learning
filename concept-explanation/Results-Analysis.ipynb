{
 "metadata": {
  "language_info": {
   "codemirror_mode": {
    "name": "ipython",
    "version": 3
   },
   "file_extension": ".py",
   "mimetype": "text/x-python",
   "name": "python",
   "nbconvert_exporter": "python",
   "pygments_lexer": "ipython3",
   "version": "3.8.5"
  },
  "orig_nbformat": 4,
  "kernelspec": {
   "name": "python3",
   "display_name": "Python 3.8.5 64-bit ('base': conda)"
  },
  "interpreter": {
   "hash": "b98eaffda2f8dccdd434b8a538c0dff68c3263c07983948f9c516c57469e3c42"
  }
 },
 "nbformat": 4,
 "nbformat_minor": 2,
 "cells": [
  {
   "cell_type": "code",
   "execution_count": 1,
   "metadata": {},
   "outputs": [],
   "source": [
    "import pandas as pd"
   ]
  },
  {
   "cell_type": "code",
   "execution_count": 2,
   "metadata": {},
   "outputs": [],
   "source": [
    "models = ['bert-base-uncased', 'distilbert-base-uncased', 'roberta-base']"
   ]
  },
  {
   "cell_type": "code",
   "execution_count": 3,
   "metadata": {},
   "outputs": [],
   "source": [
    "models = list(map(lambda x:x.split(\"-\")[0]+\"_prob\", models))"
   ]
  },
  {
   "cell_type": "code",
   "execution_count": 4,
   "metadata": {},
   "outputs": [
    {
     "output_type": "execute_result",
     "data": {
      "text/plain": [
       "['bert_prob', 'distilbert_prob', 'roberta_prob']"
      ]
     },
     "metadata": {},
     "execution_count": 4
    }
   ],
   "source": [
    "models"
   ]
  },
  {
   "cell_type": "code",
   "execution_count": 5,
   "metadata": {},
   "outputs": [],
   "source": [
    "df = pd.read_csv(\"/home/macab/research/robust-representation-learning/concept-explanation/outputs/mnli/mnli.csv\")"
   ]
  },
  {
   "cell_type": "code",
   "execution_count": 6,
   "metadata": {},
   "outputs": [
    {
     "output_type": "execute_result",
     "data": {
      "text/plain": [
       "                                                text  ground_truth  \\\n",
       "0  the new rights are nice enough everyone really...             1   \n",
       "1  this site includes a list of all award winners...             2   \n",
       "2  uh i don't know i i have mixed emotions about ...             0   \n",
       "3  yeah i i think my favorite restaurant is alway...             2   \n",
       "4  i don't know um do you do a lot of camping i k...             2   \n",
       "\n",
       "   distilbert_pred  distilbert_prob  roberta_pred  roberta_prob  bert_pred  \\\n",
       "0                1         0.891813             1      0.745590          1   \n",
       "1                2         0.953285             2      0.989634          2   \n",
       "2                1         0.313883             0      0.689912          1   \n",
       "3                1         0.270101             1      0.300233          1   \n",
       "4                2         0.951305             2      0.992169          2   \n",
       "\n",
       "   bert_prob  \n",
       "0   0.871587  \n",
       "1   0.981063  \n",
       "2   0.167071  \n",
       "3   0.406287  \n",
       "4   0.987972  "
      ],
      "text/html": "<div>\n<style scoped>\n    .dataframe tbody tr th:only-of-type {\n        vertical-align: middle;\n    }\n\n    .dataframe tbody tr th {\n        vertical-align: top;\n    }\n\n    .dataframe thead th {\n        text-align: right;\n    }\n</style>\n<table border=\"1\" class=\"dataframe\">\n  <thead>\n    <tr style=\"text-align: right;\">\n      <th></th>\n      <th>text</th>\n      <th>ground_truth</th>\n      <th>distilbert_pred</th>\n      <th>distilbert_prob</th>\n      <th>roberta_pred</th>\n      <th>roberta_prob</th>\n      <th>bert_pred</th>\n      <th>bert_prob</th>\n    </tr>\n  </thead>\n  <tbody>\n    <tr>\n      <th>0</th>\n      <td>the new rights are nice enough everyone really...</td>\n      <td>1</td>\n      <td>1</td>\n      <td>0.891813</td>\n      <td>1</td>\n      <td>0.745590</td>\n      <td>1</td>\n      <td>0.871587</td>\n    </tr>\n    <tr>\n      <th>1</th>\n      <td>this site includes a list of all award winners...</td>\n      <td>2</td>\n      <td>2</td>\n      <td>0.953285</td>\n      <td>2</td>\n      <td>0.989634</td>\n      <td>2</td>\n      <td>0.981063</td>\n    </tr>\n    <tr>\n      <th>2</th>\n      <td>uh i don't know i i have mixed emotions about ...</td>\n      <td>0</td>\n      <td>1</td>\n      <td>0.313883</td>\n      <td>0</td>\n      <td>0.689912</td>\n      <td>1</td>\n      <td>0.167071</td>\n    </tr>\n    <tr>\n      <th>3</th>\n      <td>yeah i i think my favorite restaurant is alway...</td>\n      <td>2</td>\n      <td>1</td>\n      <td>0.270101</td>\n      <td>1</td>\n      <td>0.300233</td>\n      <td>1</td>\n      <td>0.406287</td>\n    </tr>\n    <tr>\n      <th>4</th>\n      <td>i don't know um do you do a lot of camping i k...</td>\n      <td>2</td>\n      <td>2</td>\n      <td>0.951305</td>\n      <td>2</td>\n      <td>0.992169</td>\n      <td>2</td>\n      <td>0.987972</td>\n    </tr>\n  </tbody>\n</table>\n</div>"
     },
     "metadata": {},
     "execution_count": 6
    }
   ],
   "source": [
    "df.head()"
   ]
  },
  {
   "cell_type": "code",
   "execution_count": 7,
   "metadata": {},
   "outputs": [],
   "source": [
    "df['mean_prob'] = df[models].mean(axis=1)"
   ]
  },
  {
   "cell_type": "code",
   "execution_count": 8,
   "metadata": {},
   "outputs": [
    {
     "output_type": "execute_result",
     "data": {
      "text/plain": [
       "                                                text  ground_truth  \\\n",
       "0  the new rights are nice enough everyone really...             1   \n",
       "1  this site includes a list of all award winners...             2   \n",
       "2  uh i don't know i i have mixed emotions about ...             0   \n",
       "3  yeah i i think my favorite restaurant is alway...             2   \n",
       "4  i don't know um do you do a lot of camping i k...             2   \n",
       "\n",
       "   distilbert_pred  distilbert_prob  roberta_pred  roberta_prob  bert_pred  \\\n",
       "0                1         0.891813             1      0.745590          1   \n",
       "1                2         0.953285             2      0.989634          2   \n",
       "2                1         0.313883             0      0.689912          1   \n",
       "3                1         0.270101             1      0.300233          1   \n",
       "4                2         0.951305             2      0.992169          2   \n",
       "\n",
       "   bert_prob  mean_prob  \n",
       "0   0.871587   0.836330  \n",
       "1   0.981063   0.974661  \n",
       "2   0.167071   0.390288  \n",
       "3   0.406287   0.325540  \n",
       "4   0.987972   0.977149  "
      ],
      "text/html": "<div>\n<style scoped>\n    .dataframe tbody tr th:only-of-type {\n        vertical-align: middle;\n    }\n\n    .dataframe tbody tr th {\n        vertical-align: top;\n    }\n\n    .dataframe thead th {\n        text-align: right;\n    }\n</style>\n<table border=\"1\" class=\"dataframe\">\n  <thead>\n    <tr style=\"text-align: right;\">\n      <th></th>\n      <th>text</th>\n      <th>ground_truth</th>\n      <th>distilbert_pred</th>\n      <th>distilbert_prob</th>\n      <th>roberta_pred</th>\n      <th>roberta_prob</th>\n      <th>bert_pred</th>\n      <th>bert_prob</th>\n      <th>mean_prob</th>\n    </tr>\n  </thead>\n  <tbody>\n    <tr>\n      <th>0</th>\n      <td>the new rights are nice enough everyone really...</td>\n      <td>1</td>\n      <td>1</td>\n      <td>0.891813</td>\n      <td>1</td>\n      <td>0.745590</td>\n      <td>1</td>\n      <td>0.871587</td>\n      <td>0.836330</td>\n    </tr>\n    <tr>\n      <th>1</th>\n      <td>this site includes a list of all award winners...</td>\n      <td>2</td>\n      <td>2</td>\n      <td>0.953285</td>\n      <td>2</td>\n      <td>0.989634</td>\n      <td>2</td>\n      <td>0.981063</td>\n      <td>0.974661</td>\n    </tr>\n    <tr>\n      <th>2</th>\n      <td>uh i don't know i i have mixed emotions about ...</td>\n      <td>0</td>\n      <td>1</td>\n      <td>0.313883</td>\n      <td>0</td>\n      <td>0.689912</td>\n      <td>1</td>\n      <td>0.167071</td>\n      <td>0.390288</td>\n    </tr>\n    <tr>\n      <th>3</th>\n      <td>yeah i i think my favorite restaurant is alway...</td>\n      <td>2</td>\n      <td>1</td>\n      <td>0.270101</td>\n      <td>1</td>\n      <td>0.300233</td>\n      <td>1</td>\n      <td>0.406287</td>\n      <td>0.325540</td>\n    </tr>\n    <tr>\n      <th>4</th>\n      <td>i don't know um do you do a lot of camping i k...</td>\n      <td>2</td>\n      <td>2</td>\n      <td>0.951305</td>\n      <td>2</td>\n      <td>0.992169</td>\n      <td>2</td>\n      <td>0.987972</td>\n      <td>0.977149</td>\n    </tr>\n  </tbody>\n</table>\n</div>"
     },
     "metadata": {},
     "execution_count": 8
    }
   ],
   "source": [
    "df.head()"
   ]
  },
  {
   "cell_type": "code",
   "execution_count": 9,
   "metadata": {},
   "outputs": [],
   "source": [
    "df = df.sample(frac=1.0)"
   ]
  },
  {
   "cell_type": "code",
   "execution_count": 10,
   "metadata": {},
   "outputs": [
    {
     "output_type": "execute_result",
     "data": {
      "text/plain": [
       "                                                   text  ground_truth  \\\n",
       "7031  in this respect, bringing steve jobs back to s...             0   \n",
       "2672  jon's defense began to weaken and slow. jon fe...             2   \n",
       "1846  a little past the small theater built for loca...             2   \n",
       "8818  it is at the moment of maximum audience suscep...             0   \n",
       "6147  south carolina has no referendum right, so the...             2   \n",
       "\n",
       "      distilbert_pred  distilbert_prob  roberta_pred  roberta_prob  bert_pred  \\\n",
       "7031                0         0.616070             0      0.960283          0   \n",
       "2672                2         0.769695             2      0.973326          2   \n",
       "1846                2         0.979074             2      0.987399          2   \n",
       "8818                0         0.607033             2      0.233893          2   \n",
       "6147                1         0.240270             2      0.823089          0   \n",
       "\n",
       "      bert_prob  mean_prob  \n",
       "7031   0.817080   0.797811  \n",
       "2672   0.858740   0.867254  \n",
       "1846   0.979261   0.981911  \n",
       "8818   0.353130   0.398019  \n",
       "6147   0.158566   0.407308  "
      ],
      "text/html": "<div>\n<style scoped>\n    .dataframe tbody tr th:only-of-type {\n        vertical-align: middle;\n    }\n\n    .dataframe tbody tr th {\n        vertical-align: top;\n    }\n\n    .dataframe thead th {\n        text-align: right;\n    }\n</style>\n<table border=\"1\" class=\"dataframe\">\n  <thead>\n    <tr style=\"text-align: right;\">\n      <th></th>\n      <th>text</th>\n      <th>ground_truth</th>\n      <th>distilbert_pred</th>\n      <th>distilbert_prob</th>\n      <th>roberta_pred</th>\n      <th>roberta_prob</th>\n      <th>bert_pred</th>\n      <th>bert_prob</th>\n      <th>mean_prob</th>\n    </tr>\n  </thead>\n  <tbody>\n    <tr>\n      <th>7031</th>\n      <td>in this respect, bringing steve jobs back to s...</td>\n      <td>0</td>\n      <td>0</td>\n      <td>0.616070</td>\n      <td>0</td>\n      <td>0.960283</td>\n      <td>0</td>\n      <td>0.817080</td>\n      <td>0.797811</td>\n    </tr>\n    <tr>\n      <th>2672</th>\n      <td>jon's defense began to weaken and slow. jon fe...</td>\n      <td>2</td>\n      <td>2</td>\n      <td>0.769695</td>\n      <td>2</td>\n      <td>0.973326</td>\n      <td>2</td>\n      <td>0.858740</td>\n      <td>0.867254</td>\n    </tr>\n    <tr>\n      <th>1846</th>\n      <td>a little past the small theater built for loca...</td>\n      <td>2</td>\n      <td>2</td>\n      <td>0.979074</td>\n      <td>2</td>\n      <td>0.987399</td>\n      <td>2</td>\n      <td>0.979261</td>\n      <td>0.981911</td>\n    </tr>\n    <tr>\n      <th>8818</th>\n      <td>it is at the moment of maximum audience suscep...</td>\n      <td>0</td>\n      <td>0</td>\n      <td>0.607033</td>\n      <td>2</td>\n      <td>0.233893</td>\n      <td>2</td>\n      <td>0.353130</td>\n      <td>0.398019</td>\n    </tr>\n    <tr>\n      <th>6147</th>\n      <td>south carolina has no referendum right, so the...</td>\n      <td>2</td>\n      <td>1</td>\n      <td>0.240270</td>\n      <td>2</td>\n      <td>0.823089</td>\n      <td>0</td>\n      <td>0.158566</td>\n      <td>0.407308</td>\n    </tr>\n  </tbody>\n</table>\n</div>"
     },
     "metadata": {},
     "execution_count": 10
    }
   ],
   "source": [
    "df.head()"
   ]
  },
  {
   "cell_type": "code",
   "execution_count": 14,
   "metadata": {},
   "outputs": [],
   "source": [
    "top_5 = df['mean_prob'].quantile(q=0.90)\n",
    "bottom_5 = df['mean_prob'].quantile(q=0.10)"
   ]
  },
  {
   "cell_type": "code",
   "execution_count": 15,
   "metadata": {},
   "outputs": [],
   "source": [
    "df_top_5 = df[df['mean_prob'] >= top_5]\n",
    "df_bottom_5 = df[df['mean_prob'] <= bottom_5]"
   ]
  },
  {
   "cell_type": "code",
   "execution_count": 16,
   "metadata": {},
   "outputs": [
    {
     "output_type": "stream",
     "name": "stdout",
     "text": [
      "(982, 9) (982, 9)\n"
     ]
    }
   ],
   "source": [
    "print(df_top_5.shape, df_bottom_5.shape)"
   ]
  },
  {
   "cell_type": "code",
   "execution_count": 17,
   "metadata": {},
   "outputs": [
    {
     "output_type": "execute_result",
     "data": {
      "text/plain": [
       "                                                   text  ground_truth  \\\n",
       "1846  a little past the small theater built for loca...             2   \n",
       "1220  agency officials stated that copies of both th...             2   \n",
       "9545  there were beads of perspiration on his brow. ...             2   \n",
       "9118  all these sites will automatically lead into g...             2   \n",
       "3036  they post loads of newspaper articles - - yaho...             2   \n",
       "3791  i have kept you and clothed you and fed you! i...             2   \n",
       "7040  madrid is the perfect base for explorations in...             2   \n",
       "1133  she graduated in 1995 owing $ 58, 000 in loans...             2   \n",
       "4743  the road along the coastline to the south trav...             2   \n",
       "8803  there are also ferries to discovery bay. there...             2   \n",
       "\n",
       "      mean_prob  \n",
       "1846   0.981911  \n",
       "1220   0.958203  \n",
       "9545   0.978763  \n",
       "9118   0.975238  \n",
       "3036   0.990727  \n",
       "3791   0.990570  \n",
       "7040   0.983962  \n",
       "1133   0.985352  \n",
       "4743   0.984317  \n",
       "8803   0.990402  "
      ],
      "text/html": "<div>\n<style scoped>\n    .dataframe tbody tr th:only-of-type {\n        vertical-align: middle;\n    }\n\n    .dataframe tbody tr th {\n        vertical-align: top;\n    }\n\n    .dataframe thead th {\n        text-align: right;\n    }\n</style>\n<table border=\"1\" class=\"dataframe\">\n  <thead>\n    <tr style=\"text-align: right;\">\n      <th></th>\n      <th>text</th>\n      <th>ground_truth</th>\n      <th>mean_prob</th>\n    </tr>\n  </thead>\n  <tbody>\n    <tr>\n      <th>1846</th>\n      <td>a little past the small theater built for loca...</td>\n      <td>2</td>\n      <td>0.981911</td>\n    </tr>\n    <tr>\n      <th>1220</th>\n      <td>agency officials stated that copies of both th...</td>\n      <td>2</td>\n      <td>0.958203</td>\n    </tr>\n    <tr>\n      <th>9545</th>\n      <td>there were beads of perspiration on his brow. ...</td>\n      <td>2</td>\n      <td>0.978763</td>\n    </tr>\n    <tr>\n      <th>9118</th>\n      <td>all these sites will automatically lead into g...</td>\n      <td>2</td>\n      <td>0.975238</td>\n    </tr>\n    <tr>\n      <th>3036</th>\n      <td>they post loads of newspaper articles - - yaho...</td>\n      <td>2</td>\n      <td>0.990727</td>\n    </tr>\n    <tr>\n      <th>3791</th>\n      <td>i have kept you and clothed you and fed you! i...</td>\n      <td>2</td>\n      <td>0.990570</td>\n    </tr>\n    <tr>\n      <th>7040</th>\n      <td>madrid is the perfect base for explorations in...</td>\n      <td>2</td>\n      <td>0.983962</td>\n    </tr>\n    <tr>\n      <th>1133</th>\n      <td>she graduated in 1995 owing $ 58, 000 in loans...</td>\n      <td>2</td>\n      <td>0.985352</td>\n    </tr>\n    <tr>\n      <th>4743</th>\n      <td>the road along the coastline to the south trav...</td>\n      <td>2</td>\n      <td>0.984317</td>\n    </tr>\n    <tr>\n      <th>8803</th>\n      <td>there are also ferries to discovery bay. there...</td>\n      <td>2</td>\n      <td>0.990402</td>\n    </tr>\n  </tbody>\n</table>\n</div>"
     },
     "metadata": {},
     "execution_count": 17
    }
   ],
   "source": [
    "df_top_5[['text', 'ground_truth', 'mean_prob']].head(10)"
   ]
  },
  {
   "cell_type": "code",
   "execution_count": 18,
   "metadata": {},
   "outputs": [
    {
     "output_type": "execute_result",
     "data": {
      "text/plain": [
       "                                                   text  ground_truth  \\\n",
       "160   for big raj - buffs, the supreme example of in...             2   \n",
       "8314  in the 19th century, when kashmir was the most...             2   \n",
       "6956  anwar el - sadat succeeded nasser in 1970. nas...             2   \n",
       "2844  do you trust me, uncle? gauve hesitated. gauve...             1   \n",
       "3259  and it needs work too, you know, in case i hav...             2   \n",
       "9062  sun ra's spaceships did not come, as it were, ...             2   \n",
       "2338  the ams system also allows users to search the...             2   \n",
       "5987  this formal review process guarantees represen...             2   \n",
       "3550  he jumped up, planting one hand on the chargin...             2   \n",
       "6429  the spear missed vrenna by only a hand - span....             2   \n",
       "\n",
       "      mean_prob  \n",
       "160    0.168860  \n",
       "8314   0.186806  \n",
       "6956   0.117802  \n",
       "2844   0.212983  \n",
       "3259   0.213960  \n",
       "9062   0.189352  \n",
       "2338   0.081396  \n",
       "5987   0.211944  \n",
       "3550   0.148834  \n",
       "6429   0.141670  "
      ],
      "text/html": "<div>\n<style scoped>\n    .dataframe tbody tr th:only-of-type {\n        vertical-align: middle;\n    }\n\n    .dataframe tbody tr th {\n        vertical-align: top;\n    }\n\n    .dataframe thead th {\n        text-align: right;\n    }\n</style>\n<table border=\"1\" class=\"dataframe\">\n  <thead>\n    <tr style=\"text-align: right;\">\n      <th></th>\n      <th>text</th>\n      <th>ground_truth</th>\n      <th>mean_prob</th>\n    </tr>\n  </thead>\n  <tbody>\n    <tr>\n      <th>160</th>\n      <td>for big raj - buffs, the supreme example of in...</td>\n      <td>2</td>\n      <td>0.168860</td>\n    </tr>\n    <tr>\n      <th>8314</th>\n      <td>in the 19th century, when kashmir was the most...</td>\n      <td>2</td>\n      <td>0.186806</td>\n    </tr>\n    <tr>\n      <th>6956</th>\n      <td>anwar el - sadat succeeded nasser in 1970. nas...</td>\n      <td>2</td>\n      <td>0.117802</td>\n    </tr>\n    <tr>\n      <th>2844</th>\n      <td>do you trust me, uncle? gauve hesitated. gauve...</td>\n      <td>1</td>\n      <td>0.212983</td>\n    </tr>\n    <tr>\n      <th>3259</th>\n      <td>and it needs work too, you know, in case i hav...</td>\n      <td>2</td>\n      <td>0.213960</td>\n    </tr>\n    <tr>\n      <th>9062</th>\n      <td>sun ra's spaceships did not come, as it were, ...</td>\n      <td>2</td>\n      <td>0.189352</td>\n    </tr>\n    <tr>\n      <th>2338</th>\n      <td>the ams system also allows users to search the...</td>\n      <td>2</td>\n      <td>0.081396</td>\n    </tr>\n    <tr>\n      <th>5987</th>\n      <td>this formal review process guarantees represen...</td>\n      <td>2</td>\n      <td>0.211944</td>\n    </tr>\n    <tr>\n      <th>3550</th>\n      <td>he jumped up, planting one hand on the chargin...</td>\n      <td>2</td>\n      <td>0.148834</td>\n    </tr>\n    <tr>\n      <th>6429</th>\n      <td>the spear missed vrenna by only a hand - span....</td>\n      <td>2</td>\n      <td>0.141670</td>\n    </tr>\n  </tbody>\n</table>\n</div>"
     },
     "metadata": {},
     "execution_count": 18
    }
   ],
   "source": [
    "df_bottom_5[['text', 'ground_truth', 'mean_prob']].head(10)"
   ]
  },
  {
   "cell_type": "code",
   "execution_count": null,
   "metadata": {},
   "outputs": [],
   "source": []
  },
  {
   "cell_type": "code",
   "execution_count": 19,
   "metadata": {},
   "outputs": [],
   "source": [
    "df_top_5[['text', 'ground_truth', 'mean_prob']].to_csv(\"top_5_sst2.csv\", index=False)\n",
    "df_bottom_5[['text', 'ground_truth', 'mean_prob']].to_csv(\"bottom_5_sst2.csv\", index=False)"
   ]
  },
  {
   "cell_type": "code",
   "execution_count": null,
   "metadata": {},
   "outputs": [],
   "source": []
  },
  {
   "cell_type": "code",
   "execution_count": null,
   "metadata": {},
   "outputs": [],
   "source": []
  },
  {
   "cell_type": "code",
   "execution_count": 51,
   "metadata": {},
   "outputs": [
    {
     "output_type": "execute_result",
     "data": {
      "text/plain": [
       "                                                  text  mean_prob\n",
       "793  a poignant, artfully crafted meditation on mor...   0.999529\n",
       "837      just as moving, uplifting and funny as ever.    0.999555\n",
       "442               a gorgeous, witty, seductive movie.    0.999628\n",
       "597                       a deep and meaningful film.    0.999635\n",
       "811  ... a fun little timewaster, helped especially...   0.999458\n",
       "840  this is a good script, good dialogue, funny ev...   0.999479\n",
       "456  this is a story of two misfits who don't stand...   0.999492\n",
       "658  yakusho and shimizu... create engaging charact...   0.999635\n",
       "428      it's a charming and often affecting journey.    0.999638\n",
       "842                 a delightful coming-of-age story.    0.999649"
      ],
      "text/html": "<div>\n<style scoped>\n    .dataframe tbody tr th:only-of-type {\n        vertical-align: middle;\n    }\n\n    .dataframe tbody tr th {\n        vertical-align: top;\n    }\n\n    .dataframe thead th {\n        text-align: right;\n    }\n</style>\n<table border=\"1\" class=\"dataframe\">\n  <thead>\n    <tr style=\"text-align: right;\">\n      <th></th>\n      <th>text</th>\n      <th>mean_prob</th>\n    </tr>\n  </thead>\n  <tbody>\n    <tr>\n      <th>793</th>\n      <td>a poignant, artfully crafted meditation on mor...</td>\n      <td>0.999529</td>\n    </tr>\n    <tr>\n      <th>837</th>\n      <td>just as moving, uplifting and funny as ever.</td>\n      <td>0.999555</td>\n    </tr>\n    <tr>\n      <th>442</th>\n      <td>a gorgeous, witty, seductive movie.</td>\n      <td>0.999628</td>\n    </tr>\n    <tr>\n      <th>597</th>\n      <td>a deep and meaningful film.</td>\n      <td>0.999635</td>\n    </tr>\n    <tr>\n      <th>811</th>\n      <td>... a fun little timewaster, helped especially...</td>\n      <td>0.999458</td>\n    </tr>\n    <tr>\n      <th>840</th>\n      <td>this is a good script, good dialogue, funny ev...</td>\n      <td>0.999479</td>\n    </tr>\n    <tr>\n      <th>456</th>\n      <td>this is a story of two misfits who don't stand...</td>\n      <td>0.999492</td>\n    </tr>\n    <tr>\n      <th>658</th>\n      <td>yakusho and shimizu... create engaging charact...</td>\n      <td>0.999635</td>\n    </tr>\n    <tr>\n      <th>428</th>\n      <td>it's a charming and often affecting journey.</td>\n      <td>0.999638</td>\n    </tr>\n    <tr>\n      <th>842</th>\n      <td>a delightful coming-of-age story.</td>\n      <td>0.999649</td>\n    </tr>\n  </tbody>\n</table>\n</div>"
     },
     "metadata": {},
     "execution_count": 51
    }
   ],
   "source": [
    "df_top_5[['text', 'mean_prob']].head(10)"
   ]
  },
  {
   "cell_type": "code",
   "execution_count": 71,
   "metadata": {},
   "outputs": [],
   "source": [
    "from sklearn.metrics import classification_report"
   ]
  },
  {
   "cell_type": "code",
   "execution_count": 72,
   "metadata": {},
   "outputs": [
    {
     "output_type": "stream",
     "name": "stdout",
     "text": [
      "              precision    recall  f1-score   support\n\n           0     0.9340    0.9252    0.9296       428\n           1     0.9259    0.9346    0.9302       428\n\n    accuracy                         0.9299       856\n   macro avg     0.9299    0.9299    0.9299       856\nweighted avg     0.9299    0.9299    0.9299       856\n\n"
     ]
    }
   ],
   "source": [
    "print(classification_report(y_true=df['ground_truth'], y_pred=df['roberta_pred'], digits=4))"
   ]
  },
  {
   "source": [
    "### Analyzing Pretrained Representations "
   ],
   "cell_type": "markdown",
   "metadata": {}
  },
  {
   "cell_type": "code",
   "execution_count": 5,
   "metadata": {},
   "outputs": [],
   "source": [
    "import os\n",
    "import gc\n",
    "import json\n",
    "import torch\n",
    "import numpy as np\n",
    "import pandas as pd\n",
    "import random\n",
    "import argparse\n",
    "from tqdm import tqdm\n",
    "import pandas as pd\n",
    "from config import config\n",
    "from utils import seed, create_trainer, update_results\n",
    "import pytorch_lightning as pl\n",
    "from evaluation import evaluate\n",
    "from dataset.loader import create_loaders\n",
    "from dataset.dataset import create_datasets\n",
    "from transformers import AutoTokenizer\n",
    "from Trainer import LightningModel\n",
    "from models.model import Model\n",
    "from datasets import load_dataset"
   ]
  },
  {
   "cell_type": "code",
   "execution_count": 6,
   "metadata": {},
   "outputs": [
    {
     "output_type": "stream",
     "name": "stderr",
     "text": [
      "Using custom data configuration default\n",
      "Reusing dataset multi_nli (/home/macab/.cache/huggingface/datasets/multi_nli/default/0.0.0/591f72eb6263d1ab527561777936b199b714cda156d35716881158a2bd144f39)\n"
     ]
    }
   ],
   "source": [
    "datasets = create_datasets(task='mnli')"
   ]
  },
  {
   "cell_type": "code",
   "execution_count": 7,
   "metadata": {},
   "outputs": [],
   "source": [
    "models = config['models']"
   ]
  },
  {
   "cell_type": "code",
   "execution_count": 8,
   "metadata": {},
   "outputs": [],
   "source": [
    "model_name = models[0]"
   ]
  },
  {
   "cell_type": "code",
   "execution_count": 9,
   "metadata": {},
   "outputs": [],
   "source": [
    "tokenizer = AutoTokenizer.from_pretrained(model_name, usefast=True, use_lower_case=True)"
   ]
  },
  {
   "cell_type": "code",
   "execution_count": 10,
   "metadata": {},
   "outputs": [
    {
     "output_type": "stream",
     "name": "stderr",
     "text": [
      "Loading cached processed dataset at /home/macab/.cache/huggingface/datasets/multi_nli/default/0.0.0/591f72eb6263d1ab527561777936b199b714cda156d35716881158a2bd144f39/cache-661ac51a4c2da6b9.arrow\n",
      "Loading cached processed dataset at /home/macab/.cache/huggingface/datasets/multi_nli/default/0.0.0/591f72eb6263d1ab527561777936b199b714cda156d35716881158a2bd144f39/cache-84ea8ba91801c3a2.arrow\n"
     ]
    }
   ],
   "source": [
    "loaders = create_loaders(\n",
    "        dataset=datasets,\n",
    "        task='mnli',\n",
    "        tokenizer=tokenizer\n",
    "    )"
   ]
  },
  {
   "cell_type": "code",
   "execution_count": 27,
   "metadata": {},
   "outputs": [],
   "source": [
    "lm = LightningModel(\n",
    "    model_name=model_name,\n",
    "    task=\"mnli\",\n",
    "    config=config\n",
    ")"
   ]
  },
  {
   "cell_type": "code",
   "execution_count": 12,
   "metadata": {},
   "outputs": [
    {
     "output_type": "execute_result",
     "data": {
      "text/plain": [
       "<All keys matched successfully>"
      ]
     },
     "metadata": {},
     "execution_count": 12
    }
   ],
   "source": [
    "lm.load_state_dict(\n",
    "    torch.load(\"./outputs/mnli/distilbert-base-uncased/epoch=2.ckpt\", map_location=torch.device('cpu'))['state_dict']\n",
    ")"
   ]
  },
  {
   "cell_type": "code",
   "execution_count": 13,
   "metadata": {},
   "outputs": [
    {
     "output_type": "stream",
     "name": "stderr",
     "text": [
      "GPU available: False, used: False\n",
      "TPU available: False, using: 0 TPU cores\n"
     ]
    }
   ],
   "source": [
    "trainer = pl.Trainer()"
   ]
  },
  {
   "cell_type": "code",
   "execution_count": 14,
   "metadata": {},
   "outputs": [],
   "source": [
    "# trainer.test(\n",
    "#     model=lm,\n",
    "#     test_dataloaders=loaders['mnli']['test']\n",
    "# )"
   ]
  },
  {
   "cell_type": "code",
   "execution_count": 15,
   "metadata": {},
   "outputs": [
    {
     "output_type": "stream",
     "name": "stderr",
     "text": [
      "Using custom data configuration default-1024230881837e09\n",
      "Reusing dataset csv (/home/macab/.cache/huggingface/datasets/csv/default-1024230881837e09/0.0.0/2dc6629a9ff6b5697d82c25b73731dd440507a69cbce8b425db50b751e8fcfd0)\n"
     ]
    }
   ],
   "source": [
    "predictions =  load_dataset('csv', data_files='./outputs/mnli/mnli_mean.csv')['train']"
   ]
  },
  {
   "cell_type": "code",
   "execution_count": 16,
   "metadata": {},
   "outputs": [],
   "source": [
    "# predictions"
   ]
  },
  {
   "cell_type": "code",
   "execution_count": 17,
   "metadata": {},
   "outputs": [
    {
     "output_type": "stream",
     "name": "stderr",
     "text": [
      "100%|██████████| 10/10 [00:00<00:00, 33.68ba/s]\n"
     ]
    }
   ],
   "source": [
    "predictions = predictions.filter(lambda example : example['mean_prob'] < 0.4)"
   ]
  },
  {
   "cell_type": "code",
   "execution_count": 18,
   "metadata": {},
   "outputs": [
    {
     "output_type": "stream",
     "name": "stderr",
     "text": [
      "100%|██████████| 3/3 [00:01<00:00,  2.15ba/s]\n"
     ]
    }
   ],
   "source": [
    "tokenized = predictions.map(lambda x: tokenizer(x['text'], padding='max_length', truncation=True, max_length=config['tasks']['mnli']['max_seq_length']), batched=True)\n",
    "\n",
    "tokenized.set_format(type='torch', columns=['input_ids', 'attention_mask'])"
   ]
  },
  {
   "cell_type": "code",
   "execution_count": 21,
   "metadata": {},
   "outputs": [],
   "source": [
    "# lm.eval()"
   ]
  },
  {
   "cell_type": "code",
   "execution_count": 28,
   "metadata": {},
   "outputs": [],
   "source": [
    "for param in lm.model.parameters():\n",
    "    param.requires_grad = False"
   ]
  },
  {
   "cell_type": "code",
   "execution_count": null,
   "metadata": {},
   "outputs": [],
   "source": []
  },
  {
   "cell_type": "code",
   "execution_count": 29,
   "metadata": {
    "tags": []
   },
   "outputs": [
    {
     "output_type": "stream",
     "name": "stderr",
     "text": [
      "100%|██████████| 2141/2141 [02:19<00:00, 15.39it/s]\n"
     ]
    }
   ],
   "source": [
    "outputs = torch.empty((0, 768))\n",
    "for each in tqdm(tokenized):\n",
    "\n",
    "    _, out = lm(\n",
    "        input_ids=each['input_ids'].unsqueeze(0), \n",
    "        attention_mask=each['attention_mask'].unsqueeze(0),\n",
    "    )\n",
    "\n",
    "    outputs = torch.vstack((outputs, out))\n",
    "\n",
    "\n",
    "    # print(each['input_ids'].shape, each['attention_mask'].shape)\n",
    "\n",
    "    # print(outputs.shape)\n",
    "    # break"
   ]
  },
  {
   "cell_type": "code",
   "execution_count": 30,
   "metadata": {},
   "outputs": [
    {
     "output_type": "stream",
     "name": "stdout",
     "text": [
      "torch.Size([2141, 768])\n"
     ]
    }
   ],
   "source": [
    "print(outputs.shape)"
   ]
  },
  {
   "cell_type": "code",
   "execution_count": 31,
   "metadata": {},
   "outputs": [],
   "source": [
    "torch.save(outputs, \"./outputs/mnli/mnli.pt\")"
   ]
  },
  {
   "cell_type": "code",
   "execution_count": 100,
   "metadata": {},
   "outputs": [],
   "source": [
    "# torch.hstack?"
   ]
  },
  {
   "cell_type": "code",
   "execution_count": null,
   "metadata": {},
   "outputs": [],
   "source": []
  },
  {
   "cell_type": "code",
   "execution_count": null,
   "metadata": {},
   "outputs": [],
   "source": []
  },
  {
   "cell_type": "code",
   "execution_count": null,
   "metadata": {},
   "outputs": [],
   "source": []
  },
  {
   "cell_type": "code",
   "execution_count": null,
   "metadata": {},
   "outputs": [],
   "source": []
  },
  {
   "cell_type": "code",
   "execution_count": null,
   "metadata": {},
   "outputs": [],
   "source": []
  },
  {
   "cell_type": "code",
   "execution_count": null,
   "metadata": {},
   "outputs": [],
   "source": []
  },
  {
   "cell_type": "code",
   "execution_count": null,
   "metadata": {},
   "outputs": [],
   "source": []
  },
  {
   "cell_type": "code",
   "execution_count": null,
   "metadata": {},
   "outputs": [],
   "source": []
  }
 ]
}