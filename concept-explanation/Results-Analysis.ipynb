{
 "cells": [
  {
   "cell_type": "code",
   "execution_count": 32,
   "metadata": {},
   "outputs": [],
   "source": [
    "import pandas as pd"
   ]
  },
  {
   "cell_type": "code",
   "execution_count": 33,
   "metadata": {},
   "outputs": [],
   "source": [
    "models = ['bert-base-uncased', 'distilbert-base-uncased', 'roberta-base']"
   ]
  },
  {
   "cell_type": "code",
   "execution_count": 34,
   "metadata": {},
   "outputs": [],
   "source": [
    "models = list(map(lambda x:x.split(\"-\")[0]+\"_prob\", models))"
   ]
  },
  {
   "cell_type": "code",
   "execution_count": 35,
   "metadata": {},
   "outputs": [
    {
     "data": {
      "text/plain": [
       "['bert_prob', 'distilbert_prob', 'roberta_prob']"
      ]
     },
     "execution_count": 35,
     "metadata": {},
     "output_type": "execute_result"
    }
   ],
   "source": [
    "models"
   ]
  },
  {
   "cell_type": "code",
   "execution_count": 37,
   "metadata": {},
   "outputs": [],
   "source": [
    "df = pd.read_csv(\"/home/macab/research/robust-representation-learning/concept-explanation/outputs/imdb_sst2_sa/sst2.csv\")"
   ]
  },
  {
   "cell_type": "code",
   "execution_count": 38,
   "metadata": {},
   "outputs": [
    {
     "data": {
      "text/html": [
       "<div>\n",
       "<style scoped>\n",
       "    .dataframe tbody tr th:only-of-type {\n",
       "        vertical-align: middle;\n",
       "    }\n",
       "\n",
       "    .dataframe tbody tr th {\n",
       "        vertical-align: top;\n",
       "    }\n",
       "\n",
       "    .dataframe thead th {\n",
       "        text-align: right;\n",
       "    }\n",
       "</style>\n",
       "<table border=\"1\" class=\"dataframe\">\n",
       "  <thead>\n",
       "    <tr style=\"text-align: right;\">\n",
       "      <th></th>\n",
       "      <th>text</th>\n",
       "      <th>ground_truth</th>\n",
       "      <th>distilbert_pred</th>\n",
       "      <th>distilbert_prob</th>\n",
       "      <th>roberta_pred</th>\n",
       "      <th>roberta_prob</th>\n",
       "      <th>bert_pred</th>\n",
       "      <th>bert_prob</th>\n",
       "    </tr>\n",
       "  </thead>\n",
       "  <tbody>\n",
       "    <tr>\n",
       "      <th>0</th>\n",
       "      <td>it's a charming and often affecting journey.</td>\n",
       "      <td>1</td>\n",
       "      <td>1</td>\n",
       "      <td>0.998421</td>\n",
       "      <td>1</td>\n",
       "      <td>0.998655</td>\n",
       "      <td>1</td>\n",
       "      <td>0.997684</td>\n",
       "    </tr>\n",
       "    <tr>\n",
       "      <th>1</th>\n",
       "      <td>unflinchingly bleak and desperate</td>\n",
       "      <td>0</td>\n",
       "      <td>0</td>\n",
       "      <td>0.935675</td>\n",
       "      <td>0</td>\n",
       "      <td>0.987056</td>\n",
       "      <td>0</td>\n",
       "      <td>0.684826</td>\n",
       "    </tr>\n",
       "    <tr>\n",
       "      <th>2</th>\n",
       "      <td>allows us to hope that nolan is poised to emba...</td>\n",
       "      <td>1</td>\n",
       "      <td>1</td>\n",
       "      <td>0.995805</td>\n",
       "      <td>1</td>\n",
       "      <td>0.975733</td>\n",
       "      <td>1</td>\n",
       "      <td>0.995648</td>\n",
       "    </tr>\n",
       "    <tr>\n",
       "      <th>3</th>\n",
       "      <td>the acting, costumes, music, cinematography an...</td>\n",
       "      <td>1</td>\n",
       "      <td>1</td>\n",
       "      <td>0.960720</td>\n",
       "      <td>1</td>\n",
       "      <td>0.988386</td>\n",
       "      <td>0</td>\n",
       "      <td>0.181109</td>\n",
       "    </tr>\n",
       "    <tr>\n",
       "      <th>4</th>\n",
       "      <td>it's slow - - very, very slow.</td>\n",
       "      <td>0</td>\n",
       "      <td>0</td>\n",
       "      <td>0.947970</td>\n",
       "      <td>0</td>\n",
       "      <td>0.993910</td>\n",
       "      <td>0</td>\n",
       "      <td>0.970273</td>\n",
       "    </tr>\n",
       "  </tbody>\n",
       "</table>\n",
       "</div>"
      ],
      "text/plain": [
       "                                                text  ground_truth  \\\n",
       "0       it's a charming and often affecting journey.             1   \n",
       "1                  unflinchingly bleak and desperate             0   \n",
       "2  allows us to hope that nolan is poised to emba...             1   \n",
       "3  the acting, costumes, music, cinematography an...             1   \n",
       "4                     it's slow - - very, very slow.             0   \n",
       "\n",
       "   distilbert_pred  distilbert_prob  roberta_pred  roberta_prob  bert_pred  \\\n",
       "0                1         0.998421             1      0.998655          1   \n",
       "1                0         0.935675             0      0.987056          0   \n",
       "2                1         0.995805             1      0.975733          1   \n",
       "3                1         0.960720             1      0.988386          0   \n",
       "4                0         0.947970             0      0.993910          0   \n",
       "\n",
       "   bert_prob  \n",
       "0   0.997684  \n",
       "1   0.684826  \n",
       "2   0.995648  \n",
       "3   0.181109  \n",
       "4   0.970273  "
      ]
     },
     "execution_count": 38,
     "metadata": {},
     "output_type": "execute_result"
    }
   ],
   "source": [
    "df.head()"
   ]
  },
  {
   "cell_type": "code",
   "execution_count": null,
   "metadata": {},
   "outputs": [],
   "source": []
  },
  {
   "cell_type": "code",
   "execution_count": 39,
   "metadata": {},
   "outputs": [],
   "source": [
    "df['mean_prob'] = df[models].mean(axis=1)"
   ]
  },
  {
   "cell_type": "code",
   "execution_count": 40,
   "metadata": {},
   "outputs": [
    {
     "data": {
      "text/html": [
       "<div>\n",
       "<style scoped>\n",
       "    .dataframe tbody tr th:only-of-type {\n",
       "        vertical-align: middle;\n",
       "    }\n",
       "\n",
       "    .dataframe tbody tr th {\n",
       "        vertical-align: top;\n",
       "    }\n",
       "\n",
       "    .dataframe thead th {\n",
       "        text-align: right;\n",
       "    }\n",
       "</style>\n",
       "<table border=\"1\" class=\"dataframe\">\n",
       "  <thead>\n",
       "    <tr style=\"text-align: right;\">\n",
       "      <th></th>\n",
       "      <th>text</th>\n",
       "      <th>ground_truth</th>\n",
       "      <th>distilbert_pred</th>\n",
       "      <th>distilbert_prob</th>\n",
       "      <th>roberta_pred</th>\n",
       "      <th>roberta_prob</th>\n",
       "      <th>bert_pred</th>\n",
       "      <th>bert_prob</th>\n",
       "      <th>mean_prob</th>\n",
       "    </tr>\n",
       "  </thead>\n",
       "  <tbody>\n",
       "    <tr>\n",
       "      <th>0</th>\n",
       "      <td>it's a charming and often affecting journey.</td>\n",
       "      <td>1</td>\n",
       "      <td>1</td>\n",
       "      <td>0.998421</td>\n",
       "      <td>1</td>\n",
       "      <td>0.998655</td>\n",
       "      <td>1</td>\n",
       "      <td>0.997684</td>\n",
       "      <td>0.998253</td>\n",
       "    </tr>\n",
       "    <tr>\n",
       "      <th>1</th>\n",
       "      <td>unflinchingly bleak and desperate</td>\n",
       "      <td>0</td>\n",
       "      <td>0</td>\n",
       "      <td>0.935675</td>\n",
       "      <td>0</td>\n",
       "      <td>0.987056</td>\n",
       "      <td>0</td>\n",
       "      <td>0.684826</td>\n",
       "      <td>0.869185</td>\n",
       "    </tr>\n",
       "    <tr>\n",
       "      <th>2</th>\n",
       "      <td>allows us to hope that nolan is poised to emba...</td>\n",
       "      <td>1</td>\n",
       "      <td>1</td>\n",
       "      <td>0.995805</td>\n",
       "      <td>1</td>\n",
       "      <td>0.975733</td>\n",
       "      <td>1</td>\n",
       "      <td>0.995648</td>\n",
       "      <td>0.989062</td>\n",
       "    </tr>\n",
       "    <tr>\n",
       "      <th>3</th>\n",
       "      <td>the acting, costumes, music, cinematography an...</td>\n",
       "      <td>1</td>\n",
       "      <td>1</td>\n",
       "      <td>0.960720</td>\n",
       "      <td>1</td>\n",
       "      <td>0.988386</td>\n",
       "      <td>0</td>\n",
       "      <td>0.181109</td>\n",
       "      <td>0.710072</td>\n",
       "    </tr>\n",
       "    <tr>\n",
       "      <th>4</th>\n",
       "      <td>it's slow - - very, very slow.</td>\n",
       "      <td>0</td>\n",
       "      <td>0</td>\n",
       "      <td>0.947970</td>\n",
       "      <td>0</td>\n",
       "      <td>0.993910</td>\n",
       "      <td>0</td>\n",
       "      <td>0.970273</td>\n",
       "      <td>0.970718</td>\n",
       "    </tr>\n",
       "  </tbody>\n",
       "</table>\n",
       "</div>"
      ],
      "text/plain": [
       "                                                text  ground_truth  \\\n",
       "0       it's a charming and often affecting journey.             1   \n",
       "1                  unflinchingly bleak and desperate             0   \n",
       "2  allows us to hope that nolan is poised to emba...             1   \n",
       "3  the acting, costumes, music, cinematography an...             1   \n",
       "4                     it's slow - - very, very slow.             0   \n",
       "\n",
       "   distilbert_pred  distilbert_prob  roberta_pred  roberta_prob  bert_pred  \\\n",
       "0                1         0.998421             1      0.998655          1   \n",
       "1                0         0.935675             0      0.987056          0   \n",
       "2                1         0.995805             1      0.975733          1   \n",
       "3                1         0.960720             1      0.988386          0   \n",
       "4                0         0.947970             0      0.993910          0   \n",
       "\n",
       "   bert_prob  mean_prob  \n",
       "0   0.997684   0.998253  \n",
       "1   0.684826   0.869185  \n",
       "2   0.995648   0.989062  \n",
       "3   0.181109   0.710072  \n",
       "4   0.970273   0.970718  "
      ]
     },
     "execution_count": 40,
     "metadata": {},
     "output_type": "execute_result"
    }
   ],
   "source": [
    "df.head()"
   ]
  },
  {
   "cell_type": "code",
   "execution_count": 9,
   "metadata": {},
   "outputs": [],
   "source": [
    "df = df.sample(frac=1.0)"
   ]
  },
  {
   "cell_type": "code",
   "execution_count": 10,
   "metadata": {},
   "outputs": [
    {
     "data": {
      "text/html": [
       "<div>\n",
       "<style scoped>\n",
       "    .dataframe tbody tr th:only-of-type {\n",
       "        vertical-align: middle;\n",
       "    }\n",
       "\n",
       "    .dataframe tbody tr th {\n",
       "        vertical-align: top;\n",
       "    }\n",
       "\n",
       "    .dataframe thead th {\n",
       "        text-align: right;\n",
       "    }\n",
       "</style>\n",
       "<table border=\"1\" class=\"dataframe\">\n",
       "  <thead>\n",
       "    <tr style=\"text-align: right;\">\n",
       "      <th></th>\n",
       "      <th>text</th>\n",
       "      <th>ground_truth</th>\n",
       "      <th>distilbert_pred</th>\n",
       "      <th>distilbert_prob</th>\n",
       "      <th>roberta_pred</th>\n",
       "      <th>roberta_prob</th>\n",
       "      <th>bert_pred</th>\n",
       "      <th>bert_prob</th>\n",
       "      <th>mean_prob</th>\n",
       "    </tr>\n",
       "  </thead>\n",
       "  <tbody>\n",
       "    <tr>\n",
       "      <th>7031</th>\n",
       "      <td>in this respect, bringing steve jobs back to s...</td>\n",
       "      <td>0</td>\n",
       "      <td>0</td>\n",
       "      <td>0.616070</td>\n",
       "      <td>0</td>\n",
       "      <td>0.960283</td>\n",
       "      <td>0</td>\n",
       "      <td>0.817080</td>\n",
       "      <td>0.797811</td>\n",
       "    </tr>\n",
       "    <tr>\n",
       "      <th>2672</th>\n",
       "      <td>jon's defense began to weaken and slow. jon fe...</td>\n",
       "      <td>2</td>\n",
       "      <td>2</td>\n",
       "      <td>0.769695</td>\n",
       "      <td>2</td>\n",
       "      <td>0.973326</td>\n",
       "      <td>2</td>\n",
       "      <td>0.858740</td>\n",
       "      <td>0.867254</td>\n",
       "    </tr>\n",
       "    <tr>\n",
       "      <th>1846</th>\n",
       "      <td>a little past the small theater built for loca...</td>\n",
       "      <td>2</td>\n",
       "      <td>2</td>\n",
       "      <td>0.979074</td>\n",
       "      <td>2</td>\n",
       "      <td>0.987399</td>\n",
       "      <td>2</td>\n",
       "      <td>0.979261</td>\n",
       "      <td>0.981911</td>\n",
       "    </tr>\n",
       "    <tr>\n",
       "      <th>8818</th>\n",
       "      <td>it is at the moment of maximum audience suscep...</td>\n",
       "      <td>0</td>\n",
       "      <td>0</td>\n",
       "      <td>0.607033</td>\n",
       "      <td>2</td>\n",
       "      <td>0.233893</td>\n",
       "      <td>2</td>\n",
       "      <td>0.353130</td>\n",
       "      <td>0.398019</td>\n",
       "    </tr>\n",
       "    <tr>\n",
       "      <th>6147</th>\n",
       "      <td>south carolina has no referendum right, so the...</td>\n",
       "      <td>2</td>\n",
       "      <td>1</td>\n",
       "      <td>0.240270</td>\n",
       "      <td>2</td>\n",
       "      <td>0.823089</td>\n",
       "      <td>0</td>\n",
       "      <td>0.158566</td>\n",
       "      <td>0.407308</td>\n",
       "    </tr>\n",
       "  </tbody>\n",
       "</table>\n",
       "</div>"
      ],
      "text/plain": [
       "                                                   text  ground_truth  \\\n",
       "7031  in this respect, bringing steve jobs back to s...             0   \n",
       "2672  jon's defense began to weaken and slow. jon fe...             2   \n",
       "1846  a little past the small theater built for loca...             2   \n",
       "8818  it is at the moment of maximum audience suscep...             0   \n",
       "6147  south carolina has no referendum right, so the...             2   \n",
       "\n",
       "      distilbert_pred  distilbert_prob  roberta_pred  roberta_prob  bert_pred  \\\n",
       "7031                0         0.616070             0      0.960283          0   \n",
       "2672                2         0.769695             2      0.973326          2   \n",
       "1846                2         0.979074             2      0.987399          2   \n",
       "8818                0         0.607033             2      0.233893          2   \n",
       "6147                1         0.240270             2      0.823089          0   \n",
       "\n",
       "      bert_prob  mean_prob  \n",
       "7031   0.817080   0.797811  \n",
       "2672   0.858740   0.867254  \n",
       "1846   0.979261   0.981911  \n",
       "8818   0.353130   0.398019  \n",
       "6147   0.158566   0.407308  "
      ]
     },
     "execution_count": 10,
     "metadata": {},
     "output_type": "execute_result"
    }
   ],
   "source": [
    "df.head()"
   ]
  },
  {
   "cell_type": "code",
   "execution_count": 14,
   "metadata": {},
   "outputs": [],
   "source": [
    "top_5 = df['mean_prob'].quantile(q=0.90)\n",
    "bottom_5 = df['mean_prob'].quantile(q=0.10)"
   ]
  },
  {
   "cell_type": "code",
   "execution_count": 15,
   "metadata": {},
   "outputs": [],
   "source": [
    "df_top_5 = df[df['mean_prob'] >= top_5]\n",
    "df_bottom_5 = df[df['mean_prob'] <= bottom_5]"
   ]
  },
  {
   "cell_type": "code",
   "execution_count": 16,
   "metadata": {},
   "outputs": [
    {
     "name": "stdout",
     "output_type": "stream",
     "text": [
      "(982, 9) (982, 9)\n"
     ]
    }
   ],
   "source": [
    "print(df_top_5.shape, df_bottom_5.shape)"
   ]
  },
  {
   "cell_type": "code",
   "execution_count": 17,
   "metadata": {},
   "outputs": [
    {
     "data": {
      "text/html": [
       "<div>\n",
       "<style scoped>\n",
       "    .dataframe tbody tr th:only-of-type {\n",
       "        vertical-align: middle;\n",
       "    }\n",
       "\n",
       "    .dataframe tbody tr th {\n",
       "        vertical-align: top;\n",
       "    }\n",
       "\n",
       "    .dataframe thead th {\n",
       "        text-align: right;\n",
       "    }\n",
       "</style>\n",
       "<table border=\"1\" class=\"dataframe\">\n",
       "  <thead>\n",
       "    <tr style=\"text-align: right;\">\n",
       "      <th></th>\n",
       "      <th>text</th>\n",
       "      <th>ground_truth</th>\n",
       "      <th>mean_prob</th>\n",
       "    </tr>\n",
       "  </thead>\n",
       "  <tbody>\n",
       "    <tr>\n",
       "      <th>1846</th>\n",
       "      <td>a little past the small theater built for loca...</td>\n",
       "      <td>2</td>\n",
       "      <td>0.981911</td>\n",
       "    </tr>\n",
       "    <tr>\n",
       "      <th>1220</th>\n",
       "      <td>agency officials stated that copies of both th...</td>\n",
       "      <td>2</td>\n",
       "      <td>0.958203</td>\n",
       "    </tr>\n",
       "    <tr>\n",
       "      <th>9545</th>\n",
       "      <td>there were beads of perspiration on his brow. ...</td>\n",
       "      <td>2</td>\n",
       "      <td>0.978763</td>\n",
       "    </tr>\n",
       "    <tr>\n",
       "      <th>9118</th>\n",
       "      <td>all these sites will automatically lead into g...</td>\n",
       "      <td>2</td>\n",
       "      <td>0.975238</td>\n",
       "    </tr>\n",
       "    <tr>\n",
       "      <th>3036</th>\n",
       "      <td>they post loads of newspaper articles - - yaho...</td>\n",
       "      <td>2</td>\n",
       "      <td>0.990727</td>\n",
       "    </tr>\n",
       "    <tr>\n",
       "      <th>3791</th>\n",
       "      <td>i have kept you and clothed you and fed you! i...</td>\n",
       "      <td>2</td>\n",
       "      <td>0.990570</td>\n",
       "    </tr>\n",
       "    <tr>\n",
       "      <th>7040</th>\n",
       "      <td>madrid is the perfect base for explorations in...</td>\n",
       "      <td>2</td>\n",
       "      <td>0.983962</td>\n",
       "    </tr>\n",
       "    <tr>\n",
       "      <th>1133</th>\n",
       "      <td>she graduated in 1995 owing $ 58, 000 in loans...</td>\n",
       "      <td>2</td>\n",
       "      <td>0.985352</td>\n",
       "    </tr>\n",
       "    <tr>\n",
       "      <th>4743</th>\n",
       "      <td>the road along the coastline to the south trav...</td>\n",
       "      <td>2</td>\n",
       "      <td>0.984317</td>\n",
       "    </tr>\n",
       "    <tr>\n",
       "      <th>8803</th>\n",
       "      <td>there are also ferries to discovery bay. there...</td>\n",
       "      <td>2</td>\n",
       "      <td>0.990402</td>\n",
       "    </tr>\n",
       "  </tbody>\n",
       "</table>\n",
       "</div>"
      ],
      "text/plain": [
       "                                                   text  ground_truth  \\\n",
       "1846  a little past the small theater built for loca...             2   \n",
       "1220  agency officials stated that copies of both th...             2   \n",
       "9545  there were beads of perspiration on his brow. ...             2   \n",
       "9118  all these sites will automatically lead into g...             2   \n",
       "3036  they post loads of newspaper articles - - yaho...             2   \n",
       "3791  i have kept you and clothed you and fed you! i...             2   \n",
       "7040  madrid is the perfect base for explorations in...             2   \n",
       "1133  she graduated in 1995 owing $ 58, 000 in loans...             2   \n",
       "4743  the road along the coastline to the south trav...             2   \n",
       "8803  there are also ferries to discovery bay. there...             2   \n",
       "\n",
       "      mean_prob  \n",
       "1846   0.981911  \n",
       "1220   0.958203  \n",
       "9545   0.978763  \n",
       "9118   0.975238  \n",
       "3036   0.990727  \n",
       "3791   0.990570  \n",
       "7040   0.983962  \n",
       "1133   0.985352  \n",
       "4743   0.984317  \n",
       "8803   0.990402  "
      ]
     },
     "execution_count": 17,
     "metadata": {},
     "output_type": "execute_result"
    }
   ],
   "source": [
    "df_top_5[['text', 'ground_truth', 'mean_prob']].head(10)"
   ]
  },
  {
   "cell_type": "code",
   "execution_count": 18,
   "metadata": {},
   "outputs": [
    {
     "data": {
      "text/html": [
       "<div>\n",
       "<style scoped>\n",
       "    .dataframe tbody tr th:only-of-type {\n",
       "        vertical-align: middle;\n",
       "    }\n",
       "\n",
       "    .dataframe tbody tr th {\n",
       "        vertical-align: top;\n",
       "    }\n",
       "\n",
       "    .dataframe thead th {\n",
       "        text-align: right;\n",
       "    }\n",
       "</style>\n",
       "<table border=\"1\" class=\"dataframe\">\n",
       "  <thead>\n",
       "    <tr style=\"text-align: right;\">\n",
       "      <th></th>\n",
       "      <th>text</th>\n",
       "      <th>ground_truth</th>\n",
       "      <th>mean_prob</th>\n",
       "    </tr>\n",
       "  </thead>\n",
       "  <tbody>\n",
       "    <tr>\n",
       "      <th>160</th>\n",
       "      <td>for big raj - buffs, the supreme example of in...</td>\n",
       "      <td>2</td>\n",
       "      <td>0.168860</td>\n",
       "    </tr>\n",
       "    <tr>\n",
       "      <th>8314</th>\n",
       "      <td>in the 19th century, when kashmir was the most...</td>\n",
       "      <td>2</td>\n",
       "      <td>0.186806</td>\n",
       "    </tr>\n",
       "    <tr>\n",
       "      <th>6956</th>\n",
       "      <td>anwar el - sadat succeeded nasser in 1970. nas...</td>\n",
       "      <td>2</td>\n",
       "      <td>0.117802</td>\n",
       "    </tr>\n",
       "    <tr>\n",
       "      <th>2844</th>\n",
       "      <td>do you trust me, uncle? gauve hesitated. gauve...</td>\n",
       "      <td>1</td>\n",
       "      <td>0.212983</td>\n",
       "    </tr>\n",
       "    <tr>\n",
       "      <th>3259</th>\n",
       "      <td>and it needs work too, you know, in case i hav...</td>\n",
       "      <td>2</td>\n",
       "      <td>0.213960</td>\n",
       "    </tr>\n",
       "    <tr>\n",
       "      <th>9062</th>\n",
       "      <td>sun ra's spaceships did not come, as it were, ...</td>\n",
       "      <td>2</td>\n",
       "      <td>0.189352</td>\n",
       "    </tr>\n",
       "    <tr>\n",
       "      <th>2338</th>\n",
       "      <td>the ams system also allows users to search the...</td>\n",
       "      <td>2</td>\n",
       "      <td>0.081396</td>\n",
       "    </tr>\n",
       "    <tr>\n",
       "      <th>5987</th>\n",
       "      <td>this formal review process guarantees represen...</td>\n",
       "      <td>2</td>\n",
       "      <td>0.211944</td>\n",
       "    </tr>\n",
       "    <tr>\n",
       "      <th>3550</th>\n",
       "      <td>he jumped up, planting one hand on the chargin...</td>\n",
       "      <td>2</td>\n",
       "      <td>0.148834</td>\n",
       "    </tr>\n",
       "    <tr>\n",
       "      <th>6429</th>\n",
       "      <td>the spear missed vrenna by only a hand - span....</td>\n",
       "      <td>2</td>\n",
       "      <td>0.141670</td>\n",
       "    </tr>\n",
       "  </tbody>\n",
       "</table>\n",
       "</div>"
      ],
      "text/plain": [
       "                                                   text  ground_truth  \\\n",
       "160   for big raj - buffs, the supreme example of in...             2   \n",
       "8314  in the 19th century, when kashmir was the most...             2   \n",
       "6956  anwar el - sadat succeeded nasser in 1970. nas...             2   \n",
       "2844  do you trust me, uncle? gauve hesitated. gauve...             1   \n",
       "3259  and it needs work too, you know, in case i hav...             2   \n",
       "9062  sun ra's spaceships did not come, as it were, ...             2   \n",
       "2338  the ams system also allows users to search the...             2   \n",
       "5987  this formal review process guarantees represen...             2   \n",
       "3550  he jumped up, planting one hand on the chargin...             2   \n",
       "6429  the spear missed vrenna by only a hand - span....             2   \n",
       "\n",
       "      mean_prob  \n",
       "160    0.168860  \n",
       "8314   0.186806  \n",
       "6956   0.117802  \n",
       "2844   0.212983  \n",
       "3259   0.213960  \n",
       "9062   0.189352  \n",
       "2338   0.081396  \n",
       "5987   0.211944  \n",
       "3550   0.148834  \n",
       "6429   0.141670  "
      ]
     },
     "execution_count": 18,
     "metadata": {},
     "output_type": "execute_result"
    }
   ],
   "source": [
    "df_bottom_5[['text', 'ground_truth', 'mean_prob']].head(10)"
   ]
  },
  {
   "cell_type": "code",
   "execution_count": null,
   "metadata": {},
   "outputs": [],
   "source": []
  },
  {
   "cell_type": "code",
   "execution_count": 19,
   "metadata": {},
   "outputs": [],
   "source": [
    "df_top_5[['text', 'ground_truth', 'mean_prob']].to_csv(\"top_5_sst2.csv\", index=False)\n",
    "df_bottom_5[['text', 'ground_truth', 'mean_prob']].to_csv(\"bottom_5_sst2.csv\", index=False)"
   ]
  },
  {
   "cell_type": "code",
   "execution_count": null,
   "metadata": {},
   "outputs": [],
   "source": []
  },
  {
   "cell_type": "code",
   "execution_count": null,
   "metadata": {},
   "outputs": [],
   "source": []
  },
  {
   "cell_type": "code",
   "execution_count": 51,
   "metadata": {},
   "outputs": [
    {
     "data": {
      "text/html": [
       "<div>\n",
       "<style scoped>\n",
       "    .dataframe tbody tr th:only-of-type {\n",
       "        vertical-align: middle;\n",
       "    }\n",
       "\n",
       "    .dataframe tbody tr th {\n",
       "        vertical-align: top;\n",
       "    }\n",
       "\n",
       "    .dataframe thead th {\n",
       "        text-align: right;\n",
       "    }\n",
       "</style>\n",
       "<table border=\"1\" class=\"dataframe\">\n",
       "  <thead>\n",
       "    <tr style=\"text-align: right;\">\n",
       "      <th></th>\n",
       "      <th>text</th>\n",
       "      <th>mean_prob</th>\n",
       "    </tr>\n",
       "  </thead>\n",
       "  <tbody>\n",
       "    <tr>\n",
       "      <th>793</th>\n",
       "      <td>a poignant, artfully crafted meditation on mor...</td>\n",
       "      <td>0.999529</td>\n",
       "    </tr>\n",
       "    <tr>\n",
       "      <th>837</th>\n",
       "      <td>just as moving, uplifting and funny as ever.</td>\n",
       "      <td>0.999555</td>\n",
       "    </tr>\n",
       "    <tr>\n",
       "      <th>442</th>\n",
       "      <td>a gorgeous, witty, seductive movie.</td>\n",
       "      <td>0.999628</td>\n",
       "    </tr>\n",
       "    <tr>\n",
       "      <th>597</th>\n",
       "      <td>a deep and meaningful film.</td>\n",
       "      <td>0.999635</td>\n",
       "    </tr>\n",
       "    <tr>\n",
       "      <th>811</th>\n",
       "      <td>... a fun little timewaster, helped especially...</td>\n",
       "      <td>0.999458</td>\n",
       "    </tr>\n",
       "    <tr>\n",
       "      <th>840</th>\n",
       "      <td>this is a good script, good dialogue, funny ev...</td>\n",
       "      <td>0.999479</td>\n",
       "    </tr>\n",
       "    <tr>\n",
       "      <th>456</th>\n",
       "      <td>this is a story of two misfits who don't stand...</td>\n",
       "      <td>0.999492</td>\n",
       "    </tr>\n",
       "    <tr>\n",
       "      <th>658</th>\n",
       "      <td>yakusho and shimizu... create engaging charact...</td>\n",
       "      <td>0.999635</td>\n",
       "    </tr>\n",
       "    <tr>\n",
       "      <th>428</th>\n",
       "      <td>it's a charming and often affecting journey.</td>\n",
       "      <td>0.999638</td>\n",
       "    </tr>\n",
       "    <tr>\n",
       "      <th>842</th>\n",
       "      <td>a delightful coming-of-age story.</td>\n",
       "      <td>0.999649</td>\n",
       "    </tr>\n",
       "  </tbody>\n",
       "</table>\n",
       "</div>"
      ],
      "text/plain": [
       "                                                  text  mean_prob\n",
       "793  a poignant, artfully crafted meditation on mor...   0.999529\n",
       "837      just as moving, uplifting and funny as ever.    0.999555\n",
       "442               a gorgeous, witty, seductive movie.    0.999628\n",
       "597                       a deep and meaningful film.    0.999635\n",
       "811  ... a fun little timewaster, helped especially...   0.999458\n",
       "840  this is a good script, good dialogue, funny ev...   0.999479\n",
       "456  this is a story of two misfits who don't stand...   0.999492\n",
       "658  yakusho and shimizu... create engaging charact...   0.999635\n",
       "428      it's a charming and often affecting journey.    0.999638\n",
       "842                 a delightful coming-of-age story.    0.999649"
      ]
     },
     "execution_count": 51,
     "metadata": {},
     "output_type": "execute_result"
    }
   ],
   "source": [
    "df_top_5[['text', 'mean_prob']].head(10)"
   ]
  },
  {
   "cell_type": "code",
   "execution_count": 71,
   "metadata": {},
   "outputs": [],
   "source": [
    "from sklearn.metrics import classification_report"
   ]
  },
  {
   "cell_type": "code",
   "execution_count": 72,
   "metadata": {},
   "outputs": [
    {
     "name": "stdout",
     "output_type": "stream",
     "text": [
      "              precision    recall  f1-score   support\n",
      "\n",
      "           0     0.9340    0.9252    0.9296       428\n",
      "           1     0.9259    0.9346    0.9302       428\n",
      "\n",
      "    accuracy                         0.9299       856\n",
      "   macro avg     0.9299    0.9299    0.9299       856\n",
      "weighted avg     0.9299    0.9299    0.9299       856\n",
      "\n"
     ]
    }
   ],
   "source": [
    "print(classification_report(y_true=df['ground_truth'], y_pred=df['roberta_pred'], digits=4))"
   ]
  },
  {
   "cell_type": "markdown",
   "metadata": {},
   "source": [
    "### Analyzing Pretrained Representations "
   ]
  },
  {
   "cell_type": "code",
   "execution_count": 1,
   "metadata": {},
   "outputs": [],
   "source": [
    "import os\n",
    "import gc\n",
    "import json\n",
    "import torch\n",
    "import numpy as np\n",
    "import pandas as pd\n",
    "import random\n",
    "import argparse\n",
    "from tqdm import tqdm\n",
    "import pandas as pd\n",
    "from config import config\n",
    "from utils import seed, create_trainer, update_results\n",
    "import pytorch_lightning as pl\n",
    "from evaluation import evaluate\n",
    "from dataset.loader import create_loaders\n",
    "from dataset.dataset import create_datasets\n",
    "from transformers import AutoTokenizer\n",
    "from Trainer import LightningModel\n",
    "from models.model import Model\n",
    "from datasets import load_dataset"
   ]
  },
  {
   "cell_type": "code",
   "execution_count": 2,
   "metadata": {},
   "outputs": [
    {
     "name": "stderr",
     "output_type": "stream",
     "text": [
      "Reusing dataset glue (/home/macab/.cache/huggingface/datasets/glue/sst2/1.0.0/dacbe3125aa31d7f70367a07a8a9e72a5a0bfeb5fc42e75c9db75b96da6053ad)\n"
     ]
    }
   ],
   "source": [
    "datasets = create_datasets(task='imdb_sst2_sa')"
   ]
  },
  {
   "cell_type": "code",
   "execution_count": 3,
   "metadata": {},
   "outputs": [],
   "source": [
    "models = config['models']"
   ]
  },
  {
   "cell_type": "code",
   "execution_count": 4,
   "metadata": {},
   "outputs": [],
   "source": [
    "model_name = models[0]"
   ]
  },
  {
   "cell_type": "code",
   "execution_count": 6,
   "metadata": {},
   "outputs": [],
   "source": [
    "tokenizer = AutoTokenizer.from_pretrained(model_name, usefast=True, use_lower_case=True)"
   ]
  },
  {
   "cell_type": "code",
   "execution_count": 7,
   "metadata": {},
   "outputs": [
    {
     "name": "stderr",
     "output_type": "stream",
     "text": [
      "100%|██████████| 10/10 [00:02<00:00,  3.69ba/s]\n",
      "100%|██████████| 1/1 [00:00<00:00,  2.81ba/s]\n",
      "100%|██████████| 1/1 [00:00<00:00,  2.83ba/s]\n"
     ]
    }
   ],
   "source": [
    "loaders = create_loaders(\n",
    "        dataset=datasets,\n",
    "        task='imdb_sst2_sa',\n",
    "        tokenizer=tokenizer\n",
    "    )"
   ]
  },
  {
   "cell_type": "code",
   "execution_count": 8,
   "metadata": {},
   "outputs": [],
   "source": [
    "lm = LightningModel(\n",
    "    model_name=model_name,\n",
    "    task=\"imdb_sst2_sa\",\n",
    "    config=config\n",
    ")"
   ]
  },
  {
   "cell_type": "code",
   "execution_count": 9,
   "metadata": {},
   "outputs": [
    {
     "data": {
      "text/plain": [
       "<All keys matched successfully>"
      ]
     },
     "execution_count": 9,
     "metadata": {},
     "output_type": "execute_result"
    }
   ],
   "source": [
    "lm.load_state_dict(\n",
    "    torch.load(\"./outputs/imdb_sst2_sa/distilbert-base-uncased/epoch=2.ckpt\", map_location=torch.device('cpu'))['state_dict']\n",
    ")"
   ]
  },
  {
   "cell_type": "code",
   "execution_count": 10,
   "metadata": {},
   "outputs": [
    {
     "name": "stderr",
     "output_type": "stream",
     "text": [
      "GPU available: False, used: False\n",
      "TPU available: False, using: 0 TPU cores\n"
     ]
    }
   ],
   "source": [
    "trainer = pl.Trainer()"
   ]
  },
  {
   "cell_type": "code",
   "execution_count": 11,
   "metadata": {
    "tags": []
   },
   "outputs": [
    {
     "name": "stdout",
     "output_type": "stream",
     "text": [
      "Testing: 100%|██████████| 55/55 [02:12<00:00,  2.07s/it]--------------------------------------------------------------------------------\n",
      "DATALOADER:0 TEST RESULTS\n",
      "{'test_acc': tensor(0.8886, dtype=torch.float64),\n",
      " 'test_f1': tensor(0.8799, dtype=torch.float64),\n",
      " 'test_loss': tensor(0.2832),\n",
      " 'test_precision': tensor(0.8859, dtype=torch.float64),\n",
      " 'test_recall': tensor(0.8863, dtype=torch.float64)}\n",
      "--------------------------------------------------------------------------------\n",
      "Testing: 100%|██████████| 55/55 [02:12<00:00,  2.41s/it]\n",
      "/home/macab/miniconda3/lib/python3.8/site-packages/pytorch_lightning/utilities/distributed.py:45: UserWarning: The testing_epoch_end should not return anything as of 9.1.to log, use self.log(...) or self.write(...) directly in the LightningModule\n",
      "  warnings.warn(*args, **kwargs)\n"
     ]
    },
    {
     "data": {
      "text/plain": [
       "[{'test_loss': 0.283192902803421,\n",
       "  'test_precision': 0.8859083593174502,\n",
       "  'test_recall': 0.8863001392546848,\n",
       "  'test_acc': 0.8886363636363637,\n",
       "  'test_f1': 0.879886611908088}]"
      ]
     },
     "execution_count": 11,
     "metadata": {},
     "output_type": "execute_result"
    }
   ],
   "source": [
    "trainer.test(\n",
    "    model=lm,\n",
    "    test_dataloaders=loaders['sst2']['test']\n",
    ")"
   ]
  },
  {
   "cell_type": "code",
   "execution_count": 12,
   "metadata": {},
   "outputs": [],
   "source": [
    "df = pd.read_csv(\"./outputs/imdb_sst2_sa/sst2.csv\")\n",
    "m = list(map(lambda x:x.split(\"-\")[0]+\"_prob\", models))\n",
    "df['mean_prob'] = df[m].mean(axis=1)\n",
    "df.to_csv(\"./outputs/imdb_sst2_sa/sst2_mean.csv\", index=False)"
   ]
  },
  {
   "cell_type": "code",
   "execution_count": 13,
   "metadata": {},
   "outputs": [
    {
     "data": {
      "text/html": [
       "<div>\n",
       "<style scoped>\n",
       "    .dataframe tbody tr th:only-of-type {\n",
       "        vertical-align: middle;\n",
       "    }\n",
       "\n",
       "    .dataframe tbody tr th {\n",
       "        vertical-align: top;\n",
       "    }\n",
       "\n",
       "    .dataframe thead th {\n",
       "        text-align: right;\n",
       "    }\n",
       "</style>\n",
       "<table border=\"1\" class=\"dataframe\">\n",
       "  <thead>\n",
       "    <tr style=\"text-align: right;\">\n",
       "      <th></th>\n",
       "      <th>text</th>\n",
       "      <th>ground_truth</th>\n",
       "      <th>distilbert_pred</th>\n",
       "      <th>distilbert_prob</th>\n",
       "      <th>roberta_pred</th>\n",
       "      <th>roberta_prob</th>\n",
       "      <th>bert_pred</th>\n",
       "      <th>bert_prob</th>\n",
       "      <th>mean_prob</th>\n",
       "    </tr>\n",
       "  </thead>\n",
       "  <tbody>\n",
       "    <tr>\n",
       "      <th>0</th>\n",
       "      <td>it's a charming and often affecting journey.</td>\n",
       "      <td>1</td>\n",
       "      <td>1</td>\n",
       "      <td>0.998421</td>\n",
       "      <td>1</td>\n",
       "      <td>0.998655</td>\n",
       "      <td>1</td>\n",
       "      <td>0.997684</td>\n",
       "      <td>0.998253</td>\n",
       "    </tr>\n",
       "    <tr>\n",
       "      <th>1</th>\n",
       "      <td>unflinchingly bleak and desperate</td>\n",
       "      <td>0</td>\n",
       "      <td>0</td>\n",
       "      <td>0.935675</td>\n",
       "      <td>0</td>\n",
       "      <td>0.987056</td>\n",
       "      <td>0</td>\n",
       "      <td>0.684826</td>\n",
       "      <td>0.869185</td>\n",
       "    </tr>\n",
       "    <tr>\n",
       "      <th>2</th>\n",
       "      <td>allows us to hope that nolan is poised to emba...</td>\n",
       "      <td>1</td>\n",
       "      <td>1</td>\n",
       "      <td>0.995805</td>\n",
       "      <td>1</td>\n",
       "      <td>0.975733</td>\n",
       "      <td>1</td>\n",
       "      <td>0.995648</td>\n",
       "      <td>0.989062</td>\n",
       "    </tr>\n",
       "    <tr>\n",
       "      <th>3</th>\n",
       "      <td>the acting, costumes, music, cinematography an...</td>\n",
       "      <td>1</td>\n",
       "      <td>1</td>\n",
       "      <td>0.960720</td>\n",
       "      <td>1</td>\n",
       "      <td>0.988386</td>\n",
       "      <td>0</td>\n",
       "      <td>0.181109</td>\n",
       "      <td>0.710072</td>\n",
       "    </tr>\n",
       "    <tr>\n",
       "      <th>4</th>\n",
       "      <td>it's slow - - very, very slow.</td>\n",
       "      <td>0</td>\n",
       "      <td>0</td>\n",
       "      <td>0.947970</td>\n",
       "      <td>0</td>\n",
       "      <td>0.993910</td>\n",
       "      <td>0</td>\n",
       "      <td>0.970273</td>\n",
       "      <td>0.970718</td>\n",
       "    </tr>\n",
       "  </tbody>\n",
       "</table>\n",
       "</div>"
      ],
      "text/plain": [
       "                                                text  ground_truth  \\\n",
       "0       it's a charming and often affecting journey.             1   \n",
       "1                  unflinchingly bleak and desperate             0   \n",
       "2  allows us to hope that nolan is poised to emba...             1   \n",
       "3  the acting, costumes, music, cinematography an...             1   \n",
       "4                     it's slow - - very, very slow.             0   \n",
       "\n",
       "   distilbert_pred  distilbert_prob  roberta_pred  roberta_prob  bert_pred  \\\n",
       "0                1         0.998421             1      0.998655          1   \n",
       "1                0         0.935675             0      0.987056          0   \n",
       "2                1         0.995805             1      0.975733          1   \n",
       "3                1         0.960720             1      0.988386          0   \n",
       "4                0         0.947970             0      0.993910          0   \n",
       "\n",
       "   bert_prob  mean_prob  \n",
       "0   0.997684   0.998253  \n",
       "1   0.684826   0.869185  \n",
       "2   0.995648   0.989062  \n",
       "3   0.181109   0.710072  \n",
       "4   0.970273   0.970718  "
      ]
     },
     "execution_count": 13,
     "metadata": {},
     "output_type": "execute_result"
    }
   ],
   "source": [
    "df.head()"
   ]
  },
  {
   "cell_type": "code",
   "execution_count": 19,
   "metadata": {},
   "outputs": [],
   "source": []
  },
  {
   "cell_type": "code",
   "execution_count": null,
   "metadata": {},
   "outputs": [],
   "source": []
  },
  {
   "cell_type": "code",
   "execution_count": 14,
   "metadata": {},
   "outputs": [
    {
     "name": "stderr",
     "output_type": "stream",
     "text": [
      "Using custom data configuration default-52f62406fba5688e\n",
      "                            Downloading and preparing dataset csv/default (download: Unknown size, generated: Unknown size, post-processed: Unknown size, total: Unknown size) to /home/macab/.cache/huggingface/datasets/csv/default-52f62406fba5688e/0.0.0/2dc6629a9ff6b5697d82c25b73731dd440507a69cbce8b425db50b751e8fcfd0...\n",
      "Dataset csv downloaded and prepared to /home/macab/.cache/huggingface/datasets/csv/default-52f62406fba5688e/0.0.0/2dc6629a9ff6b5697d82c25b73731dd440507a69cbce8b425db50b751e8fcfd0. Subsequent calls will reuse this data.\n"
     ]
    }
   ],
   "source": [
    "predictions =  load_dataset('csv', data_files='./outputs/imdb_sst2_sa/sst2_mean.csv')['train']"
   ]
  },
  {
   "cell_type": "code",
   "execution_count": 15,
   "metadata": {},
   "outputs": [
    {
     "data": {
      "text/plain": [
       "Dataset({\n",
       "    features: ['text', 'ground_truth', 'distilbert_pred', 'distilbert_prob', 'roberta_pred', 'roberta_prob', 'bert_pred', 'bert_prob', 'mean_prob'],\n",
       "    num_rows: 872\n",
       "})"
      ]
     },
     "execution_count": 15,
     "metadata": {},
     "output_type": "execute_result"
    }
   ],
   "source": [
    "predictions"
   ]
  },
  {
   "cell_type": "code",
   "execution_count": 16,
   "metadata": {},
   "outputs": [
    {
     "name": "stderr",
     "output_type": "stream",
     "text": [
      "100%|██████████| 1/1 [00:00<00:00, 38.08ba/s]\n"
     ]
    }
   ],
   "source": [
    "predictions = predictions.filter(lambda example : example['mean_prob'] < 0.8)"
   ]
  },
  {
   "cell_type": "code",
   "execution_count": 17,
   "metadata": {},
   "outputs": [
    {
     "data": {
      "text/plain": [
       "Dataset({\n",
       "    features: ['text', 'ground_truth', 'distilbert_pred', 'distilbert_prob', 'roberta_pred', 'roberta_prob', 'bert_pred', 'bert_prob', 'mean_prob'],\n",
       "    num_rows: 171\n",
       "})"
      ]
     },
     "execution_count": 17,
     "metadata": {},
     "output_type": "execute_result"
    }
   ],
   "source": [
    "predictions"
   ]
  },
  {
   "cell_type": "code",
   "execution_count": 18,
   "metadata": {},
   "outputs": [
    {
     "name": "stderr",
     "output_type": "stream",
     "text": [
      "100%|██████████| 1/1 [00:00<00:00, 15.71ba/s]\n"
     ]
    }
   ],
   "source": [
    "tokenized = predictions.map(lambda x: tokenizer(x['text'], padding='max_length', truncation=True, max_length=config['tasks']['mnli']['max_seq_length']), batched=True)\n",
    "\n",
    "tokenized.set_format(type='torch', columns=['input_ids', 'attention_mask'])"
   ]
  },
  {
   "cell_type": "code",
   "execution_count": 19,
   "metadata": {},
   "outputs": [],
   "source": [
    "# lm.eval()"
   ]
  },
  {
   "cell_type": "code",
   "execution_count": 20,
   "metadata": {},
   "outputs": [],
   "source": [
    "for param in lm.model.parameters():\n",
    "    param.requires_grad = False"
   ]
  },
  {
   "cell_type": "code",
   "execution_count": null,
   "metadata": {},
   "outputs": [],
   "source": []
  },
  {
   "cell_type": "code",
   "execution_count": 21,
   "metadata": {
    "tags": []
   },
   "outputs": [
    {
     "name": "stderr",
     "output_type": "stream",
     "text": [
      "100%|██████████| 171/171 [00:10<00:00, 16.43it/s]\n"
     ]
    }
   ],
   "source": [
    "outputs = torch.empty((0, 768))\n",
    "for each in tqdm(tokenized):\n",
    "\n",
    "    _, out = lm(\n",
    "        input_ids=each['input_ids'].unsqueeze(0), \n",
    "        attention_mask=each['attention_mask'].unsqueeze(0),\n",
    "    )\n",
    "\n",
    "    outputs = torch.vstack((outputs, out))\n",
    "\n",
    "\n",
    "    # print(each['input_ids'].shape, each['attention_mask'].shape)\n",
    "\n",
    "    # print(outputs.shape)\n",
    "    # break"
   ]
  },
  {
   "cell_type": "code",
   "execution_count": 22,
   "metadata": {},
   "outputs": [
    {
     "name": "stdout",
     "output_type": "stream",
     "text": [
      "torch.Size([171, 768])\n"
     ]
    }
   ],
   "source": [
    "print(outputs.shape)"
   ]
  },
  {
   "cell_type": "code",
   "execution_count": 23,
   "metadata": {},
   "outputs": [],
   "source": [
    "torch.save(outputs, \"./outputs/imdb_sst2_sa/sst2_finetuned.pt\")"
   ]
  },
  {
   "cell_type": "code",
   "execution_count": 100,
   "metadata": {},
   "outputs": [],
   "source": [
    "# torch.hstack?"
   ]
  },
  {
   "cell_type": "markdown",
   "metadata": {},
   "source": [
    "#### HANS Dataset"
   ]
  },
  {
   "cell_type": "code",
   "execution_count": 24,
   "metadata": {},
   "outputs": [
    {
     "name": "stderr",
     "output_type": "stream",
     "text": [
      "Reusing dataset hans (/home/macab/.cache/huggingface/datasets/hans/plain_text/1.0.0/1bbcb735c482acd54f2e118074b59cfd2bf5f7a5a285d4d540d1e632216672ac)\n"
     ]
    }
   ],
   "source": [
    "hans = load_dataset(\"hans\")"
   ]
  },
  {
   "cell_type": "code",
   "execution_count": 25,
   "metadata": {},
   "outputs": [
    {
     "data": {
      "text/plain": [
       "DatasetDict({\n",
       "    train: Dataset({\n",
       "        features: ['premise', 'hypothesis', 'label', 'parse_premise', 'parse_hypothesis', 'binary_parse_premise', 'binary_parse_hypothesis', 'heuristic', 'subcase', 'template'],\n",
       "        num_rows: 30000\n",
       "    })\n",
       "    validation: Dataset({\n",
       "        features: ['premise', 'hypothesis', 'label', 'parse_premise', 'parse_hypothesis', 'binary_parse_premise', 'binary_parse_hypothesis', 'heuristic', 'subcase', 'template'],\n",
       "        num_rows: 30000\n",
       "    })\n",
       "})"
      ]
     },
     "execution_count": 25,
     "metadata": {},
     "output_type": "execute_result"
    }
   ],
   "source": [
    "hans"
   ]
  },
  {
   "cell_type": "code",
   "execution_count": 28,
   "metadata": {},
   "outputs": [
    {
     "data": {
      "text/plain": [
       "{'constituent', 'lexical_overlap', 'subsequence'}"
      ]
     },
     "execution_count": 28,
     "metadata": {},
     "output_type": "execute_result"
    }
   ],
   "source": [
    "set(hans['train']['heuristic'])"
   ]
  },
  {
   "cell_type": "code",
   "execution_count": 31,
   "metadata": {},
   "outputs": [
    {
     "data": {
      "text/plain": [
       "60"
      ]
     },
     "execution_count": 31,
     "metadata": {},
     "output_type": "execute_result"
    }
   ],
   "source": [
    "len(set(hans['train']['template']))"
   ]
  },
  {
   "cell_type": "code",
   "execution_count": 34,
   "metadata": {},
   "outputs": [
    {
     "data": {
      "text/plain": [
       "['temp1',\n",
       " 'temp1',\n",
       " 'temp1',\n",
       " 'temp1',\n",
       " 'temp1',\n",
       " 'temp1',\n",
       " 'temp1',\n",
       " 'temp1',\n",
       " 'temp1',\n",
       " 'temp1']"
      ]
     },
     "execution_count": 34,
     "metadata": {},
     "output_type": "execute_result"
    }
   ],
   "source": [
    "hans['train']['template'][:10]"
   ]
  },
  {
   "cell_type": "code",
   "execution_count": 37,
   "metadata": {},
   "outputs": [
    {
     "name": "stdout",
     "output_type": "stream",
     "text": [
      "The doctors supported the scientist . The scientist supported the doctors .\n"
     ]
    }
   ],
   "source": [
    "print(hans['train']['premise'][0], hans['train']['hypothesis'][0])"
   ]
  },
  {
   "cell_type": "code",
   "execution_count": 39,
   "metadata": {},
   "outputs": [
    {
     "name": "stdout",
     "output_type": "stream",
     "text": [
      "The secretaries introduced the judges . The judges introduced the secretaries .\n"
     ]
    }
   ],
   "source": [
    "print(hans['train']['premise'][2], hans['train']['hypothesis'][2])"
   ]
  },
  {
   "cell_type": "code",
   "execution_count": 41,
   "metadata": {},
   "outputs": [
    {
     "data": {
      "text/plain": [
       "['temp68',\n",
       " 'temp68',\n",
       " 'temp68',\n",
       " 'temp68',\n",
       " 'temp68',\n",
       " 'temp68',\n",
       " 'temp68',\n",
       " 'temp68',\n",
       " 'temp68',\n",
       " 'temp68']"
      ]
     },
     "execution_count": 41,
     "metadata": {},
     "output_type": "execute_result"
    }
   ],
   "source": [
    "hans['train']['template'][-10:]"
   ]
  },
  {
   "cell_type": "code",
   "execution_count": 49,
   "metadata": {},
   "outputs": [
    {
     "data": {
      "text/plain": [
       "{'binary_parse_hypothesis': '( ( The scientist ) ( ( supported ( the doctors ) ) . ) )',\n",
       " 'binary_parse_premise': '( ( The doctors ) ( ( supported ( the scientist ) ) . ) )',\n",
       " 'heuristic': 'lexical_overlap',\n",
       " 'hypothesis': 'The scientist supported the doctors .',\n",
       " 'label': 1,\n",
       " 'parse_hypothesis': '(ROOT (S (NP (DT The) (NN scientist)) (VP (VBD supported) (NP (DT the) (NNS doctors))) (. .)))',\n",
       " 'parse_premise': '(ROOT (S (NP (DT The) (NNS doctors)) (VP (VBD supported) (NP (DT the) (NN scientist))) (. .)))',\n",
       " 'premise': 'The doctors supported the scientist .',\n",
       " 'subcase': 'ln_subject/object_swap',\n",
       " 'template': 'temp1'}"
      ]
     },
     "execution_count": 49,
     "metadata": {},
     "output_type": "execute_result"
    }
   ],
   "source": [
    "hans['train'][0]"
   ]
  },
  {
   "cell_type": "code",
   "execution_count": 50,
   "metadata": {},
   "outputs": [
    {
     "data": {
      "text/plain": [
       "{'binary_parse_hypothesis': '( ( The tourist ) ( ( introduced ( the athletes ) ) . ) )',\n",
       " 'binary_parse_premise': '( ( The athletes ) ( ( introduced ( the tourist ) ) . ) )',\n",
       " 'heuristic': 'lexical_overlap',\n",
       " 'hypothesis': 'The tourist introduced the athletes .',\n",
       " 'label': 1,\n",
       " 'parse_hypothesis': '(ROOT (S (NP (DT The) (NN tourist)) (VP (VBD introduced) (NP (DT the) (NNS athletes))) (. .)))',\n",
       " 'parse_premise': '(ROOT (S (NP (DT The) (NNS athletes)) (VP (VBD introduced) (NP (DT the) (NN tourist))) (. .)))',\n",
       " 'premise': 'The athletes introduced the tourist .',\n",
       " 'subcase': 'ln_subject/object_swap',\n",
       " 'template': 'temp1'}"
      ]
     },
     "execution_count": 50,
     "metadata": {},
     "output_type": "execute_result"
    }
   ],
   "source": [
    "hans['train'][1]"
   ]
  },
  {
   "cell_type": "code",
   "execution_count": 51,
   "metadata": {},
   "outputs": [
    {
     "data": {
      "text/plain": [
       "{'binary_parse_hypothesis': '( ( The managers ) ( ( stopped ( the scientist ) ) . ) )',\n",
       " 'binary_parse_premise': '( ( The tourist ) ( ( stopped ( ( the managers ) ( near ( the scientist ) ) ) ) . ) )',\n",
       " 'heuristic': 'lexical_overlap',\n",
       " 'hypothesis': 'The managers stopped the scientist .',\n",
       " 'label': 1,\n",
       " 'parse_hypothesis': '(ROOT (S (NP (DT The) (NNS managers)) (VP (VBD stopped) (NP (DT the) (NN scientist))) (. .)))',\n",
       " 'parse_premise': '(ROOT (S (NP (DT The) (NN tourist)) (VP (VBD stopped) (NP (NP (DT the) (NNS managers)) (PP (IN near) (NP (DT the) (NN scientist))))) (. .)))',\n",
       " 'premise': 'The tourist stopped the managers near the scientist .',\n",
       " 'subcase': 'ln_preposition',\n",
       " 'template': 'temp6'}"
      ]
     },
     "execution_count": 51,
     "metadata": {},
     "output_type": "execute_result"
    }
   ],
   "source": [
    "hans['train'][1000]"
   ]
  },
  {
   "cell_type": "code",
   "execution_count": 54,
   "metadata": {},
   "outputs": [],
   "source": [
    "# hans['train'][999]"
   ]
  },
  {
   "cell_type": "code",
   "execution_count": 83,
   "metadata": {},
   "outputs": [],
   "source": [
    "df = pd.read_csv(\"/home/macab/research/robust-representation-learning/concept-explanation/outputs/mnli/mnli_mean.csv\")"
   ]
  },
  {
   "cell_type": "code",
   "execution_count": 84,
   "metadata": {},
   "outputs": [],
   "source": [
    "# df['mean_prob'].quantile(q=0.95)"
   ]
  },
  {
   "cell_type": "code",
   "execution_count": 90,
   "metadata": {},
   "outputs": [],
   "source": [
    "df_ = df[df['mean_prob']<0.20]"
   ]
  },
  {
   "cell_type": "code",
   "execution_count": 93,
   "metadata": {},
   "outputs": [
    {
     "data": {
      "text/plain": [
       "'the most important directions are simply up and up leads eventually to the cathedral and fortress commanding the hilltop, and down inevitably leads to one of three gates through the wall to the new town. go downwards to one of the gates, all of which will lead you into the cathedral.'"
      ]
     },
     "execution_count": 93,
     "metadata": {},
     "output_type": "execute_result"
    }
   ],
   "source": [
    "df_['text'].iloc[0]"
   ]
  },
  {
   "cell_type": "code",
   "execution_count": 97,
   "metadata": {},
   "outputs": [
    {
     "data": {
      "text/plain": [
       "2"
      ]
     },
     "execution_count": 97,
     "metadata": {},
     "output_type": "execute_result"
    }
   ],
   "source": [
    "df_['ground_truth'].iloc[0]"
   ]
  },
  {
   "cell_type": "code",
   "execution_count": 96,
   "metadata": {},
   "outputs": [
    {
     "data": {
      "text/plain": [
       "0.1351020485162734"
      ]
     },
     "execution_count": 96,
     "metadata": {},
     "output_type": "execute_result"
    }
   ],
   "source": [
    "df_['mean_prob'].iloc[0]"
   ]
  },
  {
   "cell_type": "code",
   "execution_count": 81,
   "metadata": {},
   "outputs": [
    {
     "data": {
      "text/plain": [
       "0.8363298972447714"
      ]
     },
     "execution_count": 81,
     "metadata": {},
     "output_type": "execute_result"
    }
   ],
   "source": [
    "df['mean_prob'][0]"
   ]
  },
  {
   "cell_type": "code",
   "execution_count": 99,
   "metadata": {},
   "outputs": [
    {
     "data": {
      "text/plain": [
       "{'constituent', 'lexical_overlap', 'subsequence'}"
      ]
     },
     "execution_count": 99,
     "metadata": {},
     "output_type": "execute_result"
    }
   ],
   "source": [
    "set(hans['train']['heuristic'])"
   ]
  },
  {
   "cell_type": "markdown",
   "metadata": {},
   "source": [
    "### HANS Analysis"
   ]
  },
  {
   "cell_type": "code",
   "execution_count": 1,
   "metadata": {},
   "outputs": [],
   "source": [
    "import pandas as pd\n",
    "import numpy as np\n",
    "from datasets import load_dataset"
   ]
  },
  {
   "cell_type": "code",
   "execution_count": 2,
   "metadata": {},
   "outputs": [
    {
     "name": "stderr",
     "output_type": "stream",
     "text": [
      "Reusing dataset hans (/home/macab/.cache/huggingface/datasets/hans/plain_text/1.0.0/1bbcb735c482acd54f2e118074b59cfd2bf5f7a5a285d4d540d1e632216672ac)\n"
     ]
    }
   ],
   "source": [
    "hans = load_dataset(\"hans\")"
   ]
  },
  {
   "cell_type": "code",
   "execution_count": 3,
   "metadata": {},
   "outputs": [
    {
     "data": {
      "text/plain": [
       "DatasetDict({\n",
       "    train: Dataset({\n",
       "        features: ['premise', 'hypothesis', 'label', 'parse_premise', 'parse_hypothesis', 'binary_parse_premise', 'binary_parse_hypothesis', 'heuristic', 'subcase', 'template'],\n",
       "        num_rows: 30000\n",
       "    })\n",
       "    validation: Dataset({\n",
       "        features: ['premise', 'hypothesis', 'label', 'parse_premise', 'parse_hypothesis', 'binary_parse_premise', 'binary_parse_hypothesis', 'heuristic', 'subcase', 'template'],\n",
       "        num_rows: 30000\n",
       "    })\n",
       "})"
      ]
     },
     "execution_count": 3,
     "metadata": {},
     "output_type": "execute_result"
    }
   ],
   "source": [
    "hans"
   ]
  },
  {
   "cell_type": "code",
   "execution_count": 4,
   "metadata": {},
   "outputs": [],
   "source": [
    "df = pd.read_csv(\"/home/macab/research/robust-representation-learning/concept-explanation/outputs/hans/hans.csv\")"
   ]
  },
  {
   "cell_type": "code",
   "execution_count": 5,
   "metadata": {},
   "outputs": [
    {
     "data": {
      "text/html": [
       "<div>\n",
       "<style scoped>\n",
       "    .dataframe tbody tr th:only-of-type {\n",
       "        vertical-align: middle;\n",
       "    }\n",
       "\n",
       "    .dataframe tbody tr th {\n",
       "        vertical-align: top;\n",
       "    }\n",
       "\n",
       "    .dataframe thead th {\n",
       "        text-align: right;\n",
       "    }\n",
       "</style>\n",
       "<table border=\"1\" class=\"dataframe\">\n",
       "  <thead>\n",
       "    <tr style=\"text-align: right;\">\n",
       "      <th></th>\n",
       "      <th>input_text</th>\n",
       "      <th>ground_truth</th>\n",
       "      <th>distilbert_pred</th>\n",
       "      <th>distilbert_prob</th>\n",
       "    </tr>\n",
       "  </thead>\n",
       "  <tbody>\n",
       "    <tr>\n",
       "      <th>0</th>\n",
       "      <td>the president advised the doctor. the doctor a...</td>\n",
       "      <td>1</td>\n",
       "      <td>1</td>\n",
       "      <td>0.999649</td>\n",
       "    </tr>\n",
       "    <tr>\n",
       "      <th>1</th>\n",
       "      <td>the student saw the managers. the managers saw...</td>\n",
       "      <td>1</td>\n",
       "      <td>1</td>\n",
       "      <td>0.999785</td>\n",
       "    </tr>\n",
       "    <tr>\n",
       "      <th>2</th>\n",
       "      <td>the presidents encouraged the banker. the bank...</td>\n",
       "      <td>1</td>\n",
       "      <td>1</td>\n",
       "      <td>0.999706</td>\n",
       "    </tr>\n",
       "    <tr>\n",
       "      <th>3</th>\n",
       "      <td>the senators supported the actor. the actor su...</td>\n",
       "      <td>1</td>\n",
       "      <td>1</td>\n",
       "      <td>0.999721</td>\n",
       "    </tr>\n",
       "    <tr>\n",
       "      <th>4</th>\n",
       "      <td>the actors avoided the bankers. the bankers av...</td>\n",
       "      <td>1</td>\n",
       "      <td>1</td>\n",
       "      <td>0.999353</td>\n",
       "    </tr>\n",
       "  </tbody>\n",
       "</table>\n",
       "</div>"
      ],
      "text/plain": [
       "                                          input_text  ground_truth  \\\n",
       "0  the president advised the doctor. the doctor a...             1   \n",
       "1  the student saw the managers. the managers saw...             1   \n",
       "2  the presidents encouraged the banker. the bank...             1   \n",
       "3  the senators supported the actor. the actor su...             1   \n",
       "4  the actors avoided the bankers. the bankers av...             1   \n",
       "\n",
       "   distilbert_pred  distilbert_prob  \n",
       "0                1         0.999649  \n",
       "1                1         0.999785  \n",
       "2                1         0.999706  \n",
       "3                1         0.999721  \n",
       "4                1         0.999353  "
      ]
     },
     "execution_count": 5,
     "metadata": {},
     "output_type": "execute_result"
    }
   ],
   "source": [
    "df.head()"
   ]
  },
  {
   "cell_type": "code",
   "execution_count": 7,
   "metadata": {},
   "outputs": [],
   "source": [
    "df['hypothesis'] = hans['validation']['hypothesis']\n",
    "df['premise'] = hans['validation']['premise']\n",
    "df['template'] = hans['validation']['template']\n",
    "df['heuristic'] = hans['validation']['heuristic']"
   ]
  },
  {
   "cell_type": "code",
   "execution_count": 8,
   "metadata": {},
   "outputs": [
    {
     "data": {
      "text/html": [
       "<div>\n",
       "<style scoped>\n",
       "    .dataframe tbody tr th:only-of-type {\n",
       "        vertical-align: middle;\n",
       "    }\n",
       "\n",
       "    .dataframe tbody tr th {\n",
       "        vertical-align: top;\n",
       "    }\n",
       "\n",
       "    .dataframe thead th {\n",
       "        text-align: right;\n",
       "    }\n",
       "</style>\n",
       "<table border=\"1\" class=\"dataframe\">\n",
       "  <thead>\n",
       "    <tr style=\"text-align: right;\">\n",
       "      <th></th>\n",
       "      <th>input_text</th>\n",
       "      <th>ground_truth</th>\n",
       "      <th>distilbert_pred</th>\n",
       "      <th>distilbert_prob</th>\n",
       "      <th>hypothesis</th>\n",
       "      <th>premise</th>\n",
       "      <th>template</th>\n",
       "      <th>heuristic</th>\n",
       "    </tr>\n",
       "  </thead>\n",
       "  <tbody>\n",
       "    <tr>\n",
       "      <th>0</th>\n",
       "      <td>the president advised the doctor. the doctor a...</td>\n",
       "      <td>1</td>\n",
       "      <td>1</td>\n",
       "      <td>0.999649</td>\n",
       "      <td>The doctor advised the president .</td>\n",
       "      <td>The president advised the doctor .</td>\n",
       "      <td>temp1</td>\n",
       "      <td>lexical_overlap</td>\n",
       "    </tr>\n",
       "    <tr>\n",
       "      <th>1</th>\n",
       "      <td>the student saw the managers. the managers saw...</td>\n",
       "      <td>1</td>\n",
       "      <td>1</td>\n",
       "      <td>0.999785</td>\n",
       "      <td>The managers saw the student .</td>\n",
       "      <td>The student saw the managers .</td>\n",
       "      <td>temp1</td>\n",
       "      <td>lexical_overlap</td>\n",
       "    </tr>\n",
       "    <tr>\n",
       "      <th>2</th>\n",
       "      <td>the presidents encouraged the banker. the bank...</td>\n",
       "      <td>1</td>\n",
       "      <td>1</td>\n",
       "      <td>0.999706</td>\n",
       "      <td>The banker encouraged the presidents .</td>\n",
       "      <td>The presidents encouraged the banker .</td>\n",
       "      <td>temp1</td>\n",
       "      <td>lexical_overlap</td>\n",
       "    </tr>\n",
       "    <tr>\n",
       "      <th>3</th>\n",
       "      <td>the senators supported the actor. the actor su...</td>\n",
       "      <td>1</td>\n",
       "      <td>1</td>\n",
       "      <td>0.999721</td>\n",
       "      <td>The actor supported the senators .</td>\n",
       "      <td>The senators supported the actor .</td>\n",
       "      <td>temp1</td>\n",
       "      <td>lexical_overlap</td>\n",
       "    </tr>\n",
       "    <tr>\n",
       "      <th>4</th>\n",
       "      <td>the actors avoided the bankers. the bankers av...</td>\n",
       "      <td>1</td>\n",
       "      <td>1</td>\n",
       "      <td>0.999353</td>\n",
       "      <td>The bankers avoided the actors .</td>\n",
       "      <td>The actors avoided the bankers .</td>\n",
       "      <td>temp1</td>\n",
       "      <td>lexical_overlap</td>\n",
       "    </tr>\n",
       "  </tbody>\n",
       "</table>\n",
       "</div>"
      ],
      "text/plain": [
       "                                          input_text  ground_truth  \\\n",
       "0  the president advised the doctor. the doctor a...             1   \n",
       "1  the student saw the managers. the managers saw...             1   \n",
       "2  the presidents encouraged the banker. the bank...             1   \n",
       "3  the senators supported the actor. the actor su...             1   \n",
       "4  the actors avoided the bankers. the bankers av...             1   \n",
       "\n",
       "   distilbert_pred  distilbert_prob                              hypothesis  \\\n",
       "0                1         0.999649      The doctor advised the president .   \n",
       "1                1         0.999785          The managers saw the student .   \n",
       "2                1         0.999706  The banker encouraged the presidents .   \n",
       "3                1         0.999721      The actor supported the senators .   \n",
       "4                1         0.999353        The bankers avoided the actors .   \n",
       "\n",
       "                                  premise template        heuristic  \n",
       "0      The president advised the doctor .    temp1  lexical_overlap  \n",
       "1          The student saw the managers .    temp1  lexical_overlap  \n",
       "2  The presidents encouraged the banker .    temp1  lexical_overlap  \n",
       "3      The senators supported the actor .    temp1  lexical_overlap  \n",
       "4        The actors avoided the bankers .    temp1  lexical_overlap  "
      ]
     },
     "execution_count": 8,
     "metadata": {},
     "output_type": "execute_result"
    }
   ],
   "source": [
    "df.head()"
   ]
  },
  {
   "cell_type": "code",
   "execution_count": 15,
   "metadata": {},
   "outputs": [],
   "source": [
    "df_ = df[df['distilbert_prob']<0.20]"
   ]
  },
  {
   "cell_type": "code",
   "execution_count": 16,
   "metadata": {},
   "outputs": [
    {
     "data": {
      "text/plain": [
       "(31, 8)"
      ]
     },
     "execution_count": 16,
     "metadata": {},
     "output_type": "execute_result"
    }
   ],
   "source": [
    "df_.shape"
   ]
  },
  {
   "cell_type": "code",
   "execution_count": 17,
   "metadata": {},
   "outputs": [
    {
     "data": {
      "text/html": [
       "<div>\n",
       "<style scoped>\n",
       "    .dataframe tbody tr th:only-of-type {\n",
       "        vertical-align: middle;\n",
       "    }\n",
       "\n",
       "    .dataframe tbody tr th {\n",
       "        vertical-align: top;\n",
       "    }\n",
       "\n",
       "    .dataframe thead th {\n",
       "        text-align: right;\n",
       "    }\n",
       "</style>\n",
       "<table border=\"1\" class=\"dataframe\">\n",
       "  <thead>\n",
       "    <tr style=\"text-align: right;\">\n",
       "      <th></th>\n",
       "      <th>input_text</th>\n",
       "      <th>ground_truth</th>\n",
       "      <th>distilbert_pred</th>\n",
       "      <th>distilbert_prob</th>\n",
       "      <th>hypothesis</th>\n",
       "      <th>premise</th>\n",
       "      <th>template</th>\n",
       "      <th>heuristic</th>\n",
       "    </tr>\n",
       "  </thead>\n",
       "  <tbody>\n",
       "    <tr>\n",
       "      <th>1070</th>\n",
       "      <td>the authors by the senators advised the presid...</td>\n",
       "      <td>1</td>\n",
       "      <td>0</td>\n",
       "      <td>0.068715</td>\n",
       "      <td>The presidents advised the authors .</td>\n",
       "      <td>The authors by the senators advised the presid...</td>\n",
       "      <td>temp3</td>\n",
       "      <td>lexical_overlap</td>\n",
       "    </tr>\n",
       "    <tr>\n",
       "      <th>1460</th>\n",
       "      <td>the bankers by the scientists encouraged the m...</td>\n",
       "      <td>1</td>\n",
       "      <td>0</td>\n",
       "      <td>0.167058</td>\n",
       "      <td>The managers encouraged the bankers .</td>\n",
       "      <td>The bankers by the scientists encouraged the m...</td>\n",
       "      <td>temp3</td>\n",
       "      <td>lexical_overlap</td>\n",
       "    </tr>\n",
       "    <tr>\n",
       "      <th>1489</th>\n",
       "      <td>the author by the bankers saw the doctor. the ...</td>\n",
       "      <td>1</td>\n",
       "      <td>0</td>\n",
       "      <td>0.086606</td>\n",
       "      <td>The doctor saw the author .</td>\n",
       "      <td>The author by the bankers saw the doctor .</td>\n",
       "      <td>temp3</td>\n",
       "      <td>lexical_overlap</td>\n",
       "    </tr>\n",
       "    <tr>\n",
       "      <th>1608</th>\n",
       "      <td>the secretary by the presidents advised the ju...</td>\n",
       "      <td>1</td>\n",
       "      <td>0</td>\n",
       "      <td>0.068734</td>\n",
       "      <td>The judge advised the secretary .</td>\n",
       "      <td>The secretary by the presidents advised the ju...</td>\n",
       "      <td>temp3</td>\n",
       "      <td>lexical_overlap</td>\n",
       "    </tr>\n",
       "    <tr>\n",
       "      <th>1673</th>\n",
       "      <td>the athlete by the authors believed the presid...</td>\n",
       "      <td>1</td>\n",
       "      <td>0</td>\n",
       "      <td>0.175073</td>\n",
       "      <td>The president believed the athlete .</td>\n",
       "      <td>The athlete by the authors believed the presid...</td>\n",
       "      <td>temp3</td>\n",
       "      <td>lexical_overlap</td>\n",
       "    </tr>\n",
       "  </tbody>\n",
       "</table>\n",
       "</div>"
      ],
      "text/plain": [
       "                                             input_text  ground_truth  \\\n",
       "1070  the authors by the senators advised the presid...             1   \n",
       "1460  the bankers by the scientists encouraged the m...             1   \n",
       "1489  the author by the bankers saw the doctor. the ...             1   \n",
       "1608  the secretary by the presidents advised the ju...             1   \n",
       "1673  the athlete by the authors believed the presid...             1   \n",
       "\n",
       "      distilbert_pred  distilbert_prob                             hypothesis  \\\n",
       "1070                0         0.068715   The presidents advised the authors .   \n",
       "1460                0         0.167058  The managers encouraged the bankers .   \n",
       "1489                0         0.086606            The doctor saw the author .   \n",
       "1608                0         0.068734      The judge advised the secretary .   \n",
       "1673                0         0.175073   The president believed the athlete .   \n",
       "\n",
       "                                                premise template  \\\n",
       "1070  The authors by the senators advised the presid...    temp3   \n",
       "1460  The bankers by the scientists encouraged the m...    temp3   \n",
       "1489         The author by the bankers saw the doctor .    temp3   \n",
       "1608  The secretary by the presidents advised the ju...    temp3   \n",
       "1673  The athlete by the authors believed the presid...    temp3   \n",
       "\n",
       "            heuristic  \n",
       "1070  lexical_overlap  \n",
       "1460  lexical_overlap  \n",
       "1489  lexical_overlap  \n",
       "1608  lexical_overlap  \n",
       "1673  lexical_overlap  "
      ]
     },
     "execution_count": 17,
     "metadata": {},
     "output_type": "execute_result"
    }
   ],
   "source": [
    "df_.head()"
   ]
  },
  {
   "cell_type": "code",
   "execution_count": 18,
   "metadata": {},
   "outputs": [],
   "source": [
    "df_.to_csv(\"./outputs/hans/bottom_5.csv\", index=False)"
   ]
  },
  {
   "cell_type": "code",
   "execution_count": 50,
   "metadata": {},
   "outputs": [],
   "source": [
    "df_2 = df[df['distilbert_prob']>0.999942]"
   ]
  },
  {
   "cell_type": "code",
   "execution_count": 51,
   "metadata": {},
   "outputs": [
    {
     "data": {
      "text/plain": [
       "(20, 8)"
      ]
     },
     "execution_count": 51,
     "metadata": {},
     "output_type": "execute_result"
    }
   ],
   "source": [
    "df_2.shape"
   ]
  },
  {
   "cell_type": "code",
   "execution_count": 52,
   "metadata": {},
   "outputs": [],
   "source": [
    "df_2.to_csv(\"./outputs/hans/top_5.csv\", index=False)"
   ]
  },
  {
   "cell_type": "code",
   "execution_count": 59,
   "metadata": {},
   "outputs": [],
   "source": [
    "df_3 = df[df['distilbert_prob']<0.50]"
   ]
  },
  {
   "cell_type": "code",
   "execution_count": 60,
   "metadata": {},
   "outputs": [
    {
     "data": {
      "text/plain": [
       "(111, 8)"
      ]
     },
     "execution_count": 60,
     "metadata": {},
     "output_type": "execute_result"
    }
   ],
   "source": [
    "df_3.shape"
   ]
  },
  {
   "cell_type": "code",
   "execution_count": 64,
   "metadata": {},
   "outputs": [
    {
     "data": {
      "text/plain": [
       "<matplotlib.axes._subplots.AxesSubplot at 0x7fcf10e5a790>"
      ]
     },
     "execution_count": 64,
     "metadata": {},
     "output_type": "execute_result"
    },
    {
     "data": {
      "image/png": "[encoded data removed]",
      "text/plain": [
       "<Figure size 432x288 with 1 Axes>"
      ]
     },
     "metadata": {
      "needs_background": "light"
     },
     "output_type": "display_data"
    }
   ],
   "source": [
    "df_3['heuristic'].value_counts().plot(kind=\"bar\")\n"
   ]
  },
  {
   "cell_type": "code",
   "execution_count": 66,
   "metadata": {},
   "outputs": [],
   "source": [
    "df_4 = df[df['distilbert_prob']>0.50]"
   ]
  },
  {
   "cell_type": "code",
   "execution_count": 67,
   "metadata": {},
   "outputs": [
    {
     "data": {
      "text/plain": [
       "<matplotlib.axes._subplots.AxesSubplot at 0x7fcf10e43130>"
      ]
     },
     "execution_count": 67,
     "metadata": {},
     "output_type": "execute_result"
    },
    {
     "data": {
      "image/png": "[encoded data removed]",
      "text/plain": [
       "<Figure size 432x288 with 1 Axes>"
      ]
     },
     "metadata": {
      "needs_background": "light"
     },
     "output_type": "display_data"
    }
   ],
   "source": [
    "df_4['heuristic'].value_counts().plot(kind=\"bar\")"
   ]
  },
  {
   "cell_type": "code",
   "execution_count": null,
   "metadata": {},
   "outputs": [],
   "source": []
  }
 ],
 "metadata": {
  "interpreter": {
   "hash": "b98eaffda2f8dccdd434b8a538c0dff68c3263c07983948f9c516c57469e3c42"
  },
  "kernelspec": {
   "display_name": "Python 3.8.5 64-bit ('base': conda)",
   "name": "python3"
  },
  "language_info": {
   "codemirror_mode": {
    "name": "ipython",
    "version": 3
   },
   "file_extension": ".py",
   "mimetype": "text/x-python",
   "name": "python",
   "nbconvert_exporter": "python",
   "pygments_lexer": "ipython3",
   "version": "3.8.5"
  },
  "orig_nbformat": 4
 },
 "nbformat": 4,
 "nbformat_minor": 2
}